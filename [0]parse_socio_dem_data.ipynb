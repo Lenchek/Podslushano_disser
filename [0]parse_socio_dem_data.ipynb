{
 "cells": [
  {
   "cell_type": "code",
   "execution_count": 96,
   "metadata": {},
   "outputs": [],
   "source": [
    "#!pip install py-vkontakte\n",
    "#библиотека:      \n",
    "import vk\n",
    "from tqdm import tqdm\n",
    "\n",
    "import requests\n",
    "import time\n",
    "import pickle\n",
    "import json\n",
    "import pandas as pd\n",
    "import datetime\n",
    "import re\n",
    "import numpy as np\n",
    "\n",
    "from collections import Counter\n",
    "\n",
    "import re\n",
    "import numpy as np\n",
    "from datetime import date\n",
    "from collections import Counter"
   ]
  },
  {
   "cell_type": "code",
   "execution_count": 3,
   "metadata": {},
   "outputs": [],
   "source": [
    "#functions to save data partially by 500k items\n",
    "def to_pickle(data):\n",
    "    with open(f'data/alive_users_info/alive_{len(data)-500000}-{len(data)}.pickle', 'wb') as f:\n",
    "        return pickle.dump(data, f)\n",
    "\n",
    "#functions to save data in the end of parsing\n",
    "def to_pickle_final(data):\n",
    "    with open(f'data/alive_users_info/dict_0-2kk_users.pickle', 'wb') as f:\n",
    "        return pickle.dump(data, f)\n",
    "\n",
    "def from_pickle(filename):\n",
    "    with open(filename, 'rb') as f:\n",
    "        return pickle.load(f)    "
   ]
  },
  {
   "cell_type": "markdown",
   "metadata": {},
   "source": [
    "# Parse 'Overhear' group users  \n",
    "with using python client for api vk.com: https://github.com/sgaynetdinov/py-vkontakte"
   ]
  },
  {
   "cell_type": "code",
   "execution_count": 17,
   "metadata": {},
   "outputs": [],
   "source": [
    "access_token = 'ce37271ace37271ace37271a52ce421894cce37ce37271aae352a1f84a2e8f41385b6cd'\n",
    "group_name = 'overhear'"
   ]
  },
  {
   "cell_type": "code",
   "execution_count": 123,
   "metadata": {},
   "outputs": [
    {
     "name": "stderr",
     "output_type": "stream",
     "text": [
      "4009815it [47:29, 1407.21it/s]\n"
     ]
    }
   ],
   "source": [
    "##use python client for api vk.com\n",
    "api = vk.Api(access_token)\n",
    "group = api.get_group(group_name)\n",
    "\n",
    "#get group members\n",
    "get_mem = group.get_members()\n",
    "users = [] \n",
    "for member in tqdm(get_mem):\n",
    "    users.append(member)"
   ]
  },
  {
   "cell_type": "code",
   "execution_count": 124,
   "metadata": {},
   "outputs": [],
   "source": [
    "##in case of previous loop breakes:\n",
    "##comment users = []\n",
    "#for member in tqdm(get_mem):\n",
    "    #users.append(member)"
   ]
  },
  {
   "cell_type": "code",
   "execution_count": 125,
   "metadata": {},
   "outputs": [],
   "source": [
    "##SAVE\n",
    "#with open('data/graph/users_4millions.pickle', 'wb') as f:\n",
    "     #pickle.dump(users, f)"
   ]
  },
  {
   "cell_type": "markdown",
   "metadata": {},
   "source": [
    "# Parse users' info"
   ]
  },
  {
   "cell_type": "markdown",
   "metadata": {},
   "source": [
    "### Filter active='alive' users and save them partially"
   ]
  },
  {
   "cell_type": "code",
   "execution_count": 4,
   "metadata": {},
   "outputs": [],
   "source": [
    "#with open('data/graph/users_4millions.pickle', 'rb') as f:\n",
    "     #users = pickle.load(f)"
   ]
  },
  {
   "cell_type": "code",
   "execution_count": 313,
   "metadata": {},
   "outputs": [
    {
     "name": "stderr",
     "output_type": "stream",
     "text": [
      "100%|██████████| 4009815/4009815 [00:40<00:00, 99206.51it/s] "
     ]
    },
    {
     "name": "stdout",
     "output_type": "stream",
     "text": [
      "2507444\n",
      "4009815\n"
     ]
    },
    {
     "name": "stderr",
     "output_type": "stream",
     "text": [
      "\n"
     ]
    }
   ],
   "source": [
    "#check if user is active by his last_seen time\n",
    "alive_users = []\n",
    "for user in tqdm(users):\n",
    "    if user.last_seen: #return datetime.datetime\n",
    "        if user.last_seen.year in (2019, 2020, 2021):\n",
    "            alive_users.append(user)    \n",
    "print(len(alive_users))\n",
    "print(len(users))"
   ]
  },
  {
   "cell_type": "code",
   "execution_count": 332,
   "metadata": {},
   "outputs": [],
   "source": [
    "##SAVE\n",
    "#with open('data/vk_object_2kk_users.pickle', 'wb') as f:\n",
    "     #pickle.dump(alive_users, f)"
   ]
  },
  {
   "cell_type": "markdown",
   "metadata": {},
   "source": [
    "### Get 'alive' users unfo"
   ]
  },
  {
   "cell_type": "code",
   "execution_count": 100,
   "metadata": {},
   "outputs": [],
   "source": [
    "##if we've restarted kernel and cleaned output, run the cell\n",
    "#alive_users = from_pickle('data/alive_users_info/vk_object_0-2kk_users.pickle')"
   ]
  },
  {
   "cell_type": "code",
   "execution_count": 225,
   "metadata": {},
   "outputs": [
    {
     "name": "stderr",
     "output_type": "stream",
     "text": [
      "100%|██████████| 53931/53931 [3:04:21<00:00,  4.88it/s]   \n"
     ]
    }
   ],
   "source": [
    "user_dict = []\n",
    "unies = []\n",
    "for user in tqdm(alive_users):\n",
    "    \n",
    "    #grab user's educational info\n",
    "    uni_info=[]\n",
    "    try:\n",
    "        if user.get_universities():\n",
    "            uni_name = user.get_universities()[0].name\n",
    "            uni_chair = user.get_universities()[0].chair_name\n",
    "            uni_status = user.get_universities()[0].education_status\n",
    "        \n",
    "            uni_info.extend((uni_name, uni_chair, uni_status))\n",
    "        else:\n",
    "            uni_info = ''\n",
    "    \n",
    "    except IndexError as error:\n",
    "        uni_info = ''\n",
    "        \n",
    "    unies.append(uni_info)\n",
    "    \n",
    "    #grab user's id, geo and gender info\n",
    "    user_id = user.id\n",
    "    \n",
    "    if user.bdate:\n",
    "        if len(user.bdate.split('.')) == 3:\n",
    "            bdate = user.bdate.split('.')[-1]\n",
    "    else:\n",
    "        bdate = ''\n",
    "\n",
    "    if user.sex:\n",
    "        sex = user.sex\n",
    "    else:\n",
    "        sex = ''\n",
    "        \n",
    "    if user.get_country():\n",
    "        country = user.get_country().title\n",
    "    else:\n",
    "        country = ''\n",
    "    \n",
    "    if user.get_city():\n",
    "        city = user.get_city().title\n",
    "    else:\n",
    "        city = ''\n",
    "\n",
    "    user_dict_ = {\n",
    "    'user_id':user_id,\n",
    "    'bdate':bdate,\n",
    "    'country':country,\n",
    "    'city':city,\n",
    "    'sex':sex,\n",
    "    'uni':uni_info}\n",
    "    \n",
    "    user_dict.append(user_dict_)\n",
    "\n",
    "    if len(user_dict)%500000 == 0:\n",
    "        to_pickle(user_dict)"
   ]
  },
  {
   "cell_type": "markdown",
   "metadata": {},
   "source": [
    "## Merge all parts of users info into one"
   ]
  },
  {
   "cell_type": "code",
   "execution_count": 236,
   "metadata": {},
   "outputs": [
    {
     "name": "stdout",
     "output_type": "stream",
     "text": [
      "500000 500000 500000\n"
     ]
    }
   ],
   "source": [
    "a = from_pickle('data/alive_users_info_autosave/0-1500k/alive_0-500k.pickle')\n",
    "b = from_pickle('data/alive_users_info_autosave/0-1500k/alive_500k-1kk.pickle')\n",
    "c = from_pickle('data/alive_users_info_autosave/0-1500k/alive_1kk-1500k.pickle')\n",
    "print(len(a), len(b), len(c))"
   ]
  },
  {
   "cell_type": "code",
   "execution_count": 241,
   "metadata": {},
   "outputs": [
    {
     "name": "stdout",
     "output_type": "stream",
     "text": [
      "2507444\n",
      "True\n"
     ]
    }
   ],
   "source": [
    "#to concatenate two lists with dicts and sort them by user id\n",
    "new_file_ = [*a, *b, *c, *user_dict]\n",
    "new_file = sorted(new_file_, key=lambda k: k['user_id']) \n",
    "\n",
    "print(len(new_file))\n",
    "print(len(new_file) == len(alive_users))"
   ]
  },
  {
   "cell_type": "code",
   "execution_count": 246,
   "metadata": {},
   "outputs": [],
   "source": [
    "to_pickle_final(new_file)"
   ]
  },
  {
   "cell_type": "markdown",
   "metadata": {},
   "source": [
    "https://leftjoin.ru/all/vk-api-parse-audience/"
   ]
  },
  {
   "cell_type": "markdown",
   "metadata": {},
   "source": [
    "## Make DataFrame and csv from the dictionary"
   ]
  },
  {
   "cell_type": "code",
   "execution_count": 4,
   "metadata": {},
   "outputs": [],
   "source": [
    "#df_2kk_users = from_pickle('data/alive_users_info/dict_0-2kk_users.pickle')"
   ]
  },
  {
   "cell_type": "code",
   "execution_count": 5,
   "metadata": {},
   "outputs": [],
   "source": [
    "df_2kk_users = (pd.DataFrame(df_2kk_users)\n",
    "                .replace(r'^\\s*$', np.nan, regex=True)) "
   ]
  },
  {
   "cell_type": "code",
   "execution_count": 6,
   "metadata": {},
   "outputs": [
    {
     "name": "stdout",
     "output_type": "stream",
     "text": [
      "(2507444, 6)\n",
      "user_id          0\n",
      "bdate       866351\n",
      "country     348833\n",
      "city        624514\n",
      "sex            494\n",
      "uni        2293304\n",
      "dtype: int64\n"
     ]
    }
   ],
   "source": [
    "print(df_2kk_users.shape)\n",
    "print(df_2kk_users.isna().sum())"
   ]
  },
  {
   "cell_type": "code",
   "execution_count": 7,
   "metadata": {},
   "outputs": [
    {
     "name": "stdout",
     "output_type": "stream",
     "text": [
      "True\n",
      "\n",
      "(2507443, 6)\n"
     ]
    }
   ],
   "source": [
    "#chek if there are any duplicates\n",
    "boolean = df_2kk_users.duplicated(subset=['user_id']).any() # True\n",
    "print(boolean, end='\\n\\n')\n",
    "\n",
    "df_2kk_users.drop_duplicates(subset=['user_id'], inplace=True)\n",
    "print(df_2kk_users.shape)"
   ]
  },
  {
   "cell_type": "code",
   "execution_count": 48,
   "metadata": {},
   "outputs": [],
   "source": [
    "df_2kk_users['bdate'] = (pd.to_datetime(df_2kk_users['bdate'], \n",
    "                         errors='coerce')\\\n",
    "                         .dt.year.astype('Int64'))\n",
    "\n",
    "current_year = date.today().year\n",
    "df_2kk_users['age'] = current_year - df_2kk_users['bdate']"
   ]
  },
  {
   "cell_type": "code",
   "execution_count": 49,
   "metadata": {},
   "outputs": [
    {
     "data": {
      "text/html": [
       "<div>\n",
       "<style scoped>\n",
       "    .dataframe tbody tr th:only-of-type {\n",
       "        vertical-align: middle;\n",
       "    }\n",
       "\n",
       "    .dataframe tbody tr th {\n",
       "        vertical-align: top;\n",
       "    }\n",
       "\n",
       "    .dataframe thead th {\n",
       "        text-align: right;\n",
       "    }\n",
       "</style>\n",
       "<table border=\"1\" class=\"dataframe\">\n",
       "  <thead>\n",
       "    <tr style=\"text-align: right;\">\n",
       "      <th></th>\n",
       "      <th>user_id</th>\n",
       "      <th>bdate</th>\n",
       "      <th>country</th>\n",
       "      <th>city</th>\n",
       "      <th>sex</th>\n",
       "      <th>uni</th>\n",
       "      <th>age</th>\n",
       "    </tr>\n",
       "  </thead>\n",
       "  <tbody>\n",
       "    <tr>\n",
       "      <th>0</th>\n",
       "      <td>177</td>\n",
       "      <td>1988</td>\n",
       "      <td>Россия</td>\n",
       "      <td>Москва</td>\n",
       "      <td>female</td>\n",
       "      <td>NaN</td>\n",
       "      <td>33</td>\n",
       "    </tr>\n",
       "    <tr>\n",
       "      <th>1</th>\n",
       "      <td>243</td>\n",
       "      <td>1987</td>\n",
       "      <td>Россия</td>\n",
       "      <td>Санкт-Петербург</td>\n",
       "      <td>female</td>\n",
       "      <td>NaN</td>\n",
       "      <td>34</td>\n",
       "    </tr>\n",
       "    <tr>\n",
       "      <th>2</th>\n",
       "      <td>345</td>\n",
       "      <td>1987</td>\n",
       "      <td>США</td>\n",
       "      <td>Boston</td>\n",
       "      <td>female</td>\n",
       "      <td>NaN</td>\n",
       "      <td>34</td>\n",
       "    </tr>\n",
       "    <tr>\n",
       "      <th>3</th>\n",
       "      <td>397</td>\n",
       "      <td>1986</td>\n",
       "      <td>Россия</td>\n",
       "      <td>Санкт-Петербург</td>\n",
       "      <td>female</td>\n",
       "      <td>NaN</td>\n",
       "      <td>35</td>\n",
       "    </tr>\n",
       "    <tr>\n",
       "      <th>4</th>\n",
       "      <td>431</td>\n",
       "      <td>1985</td>\n",
       "      <td>Россия</td>\n",
       "      <td>Санкт-Петербург</td>\n",
       "      <td>female</td>\n",
       "      <td>NaN</td>\n",
       "      <td>36</td>\n",
       "    </tr>\n",
       "  </tbody>\n",
       "</table>\n",
       "</div>"
      ],
      "text/plain": [
       "   user_id  bdate country             city     sex  uni  age\n",
       "0      177   1988  Россия           Москва  female  NaN   33\n",
       "1      243   1987  Россия  Санкт-Петербург  female  NaN   34\n",
       "2      345   1987     США           Boston  female  NaN   34\n",
       "3      397   1986  Россия  Санкт-Петербург  female  NaN   35\n",
       "4      431   1985  Россия  Санкт-Петербург  female  NaN   36"
      ]
     },
     "execution_count": 49,
     "metadata": {},
     "output_type": "execute_result"
    }
   ],
   "source": [
    "df_2kk_users.head()"
   ]
  },
  {
   "cell_type": "code",
   "execution_count": 50,
   "metadata": {},
   "outputs": [],
   "source": [
    "#df_2kk_users.to_pickle('data/alive_users_info/df_2kk_users.pickle')"
   ]
  },
  {
   "cell_type": "markdown",
   "metadata": {},
   "source": [
    "## Download table"
   ]
  },
  {
   "cell_type": "code",
   "execution_count": 4,
   "metadata": {},
   "outputs": [],
   "source": [
    "df = pd.read_pickle('data/alive_users_info/df_2kk_users.pickle')"
   ]
  },
  {
   "cell_type": "markdown",
   "metadata": {},
   "source": [
    "# Visualization"
   ]
  },
  {
   "cell_type": "code",
   "execution_count": 606,
   "metadata": {},
   "outputs": [],
   "source": [
    "import matplotlib.pyplot as plt\n",
    "import seaborn as sns\n",
    "import matplotlib.ticker as mtick\n",
    "sns.set(style='white', font_scale=1.5)\n",
    "%config InlineBackend.figure_format = 'retina'"
   ]
  },
  {
   "cell_type": "code",
   "execution_count": 56,
   "metadata": {},
   "outputs": [],
   "source": [
    "sns.set_palette(\"Set3\")"
   ]
  },
  {
   "cell_type": "code",
   "execution_count": 98,
   "metadata": {},
   "outputs": [
    {
     "data": {
      "image/png": "[encoded data removed]",
      "text/plain": [
       "<Figure size 720x72 with 1 Axes>"
      ]
     },
     "metadata": {
      "image/png": {
       "height": 68,
       "width": 572
      }
     },
     "output_type": "display_data"
    }
   ],
   "source": [
    "qualitative_colors = sns.color_palette(\"Set3\", 10)\n",
    "sns.palplot(qualitative_colors)"
   ]
  },
  {
   "cell_type": "markdown",
   "metadata": {},
   "source": [
    "##### plots https://towardsdatascience.com/make-your-data-talk-13072f84eeac"
   ]
  },
  {
   "cell_type": "markdown",
   "metadata": {},
   "source": [
    "coolors https://coolors.co/d3582c-e86130-ff6b35-fb986a-d6d0e4-bdb0f7-3c6be3-173ea1"
   ]
  },
  {
   "cell_type": "markdown",
   "metadata": {},
   "source": [
    "vivid https://coolors.co/d3582c-e86130-ff6b35-fd8250-7d8eed-5d7de8-3c6be3-2a55c2-173ea1-152651  \n",
    "pastel https://coolors.co/eb7347-fb986a-eca983-efc1a7-f4dacc-e1dae3-cdd9f9-9ab2f3-3c6be3-173ea1"
   ]
  },
  {
   "cell_type": "markdown",
   "metadata": {},
   "source": [
    "# Gender distribution"
   ]
  },
  {
   "cell_type": "code",
   "execution_count": 537,
   "metadata": {},
   "outputs": [
    {
     "name": "stdout",
     "output_type": "stream",
     "text": [
      "female    72.063612\n",
      "male      27.936388\n",
      "Name: sex, dtype: float64\n"
     ]
    }
   ],
   "source": [
    "gen_dist = df['sex'].value_counts(normalize=True) * 100\n",
    "print(gen_dist)"
   ]
  },
  {
   "cell_type": "markdown",
   "metadata": {},
   "source": [
    "# Countries ans cities distribution"
   ]
  },
  {
   "cell_type": "code",
   "execution_count": 225,
   "metadata": {},
   "outputs": [
    {
     "data": {
      "text/plain": [
       "0          Россия\n",
       "1          Россия\n",
       "2             США\n",
       "3          Россия\n",
       "4          Россия\n",
       "            ...  \n",
       "2507432    Россия\n",
       "2507433    Россия\n",
       "2507436    Россия\n",
       "2507441    Россия\n",
       "2507443    Россия\n",
       "Name: country, Length: 2158610, dtype: object"
      ]
     },
     "execution_count": 225,
     "metadata": {},
     "output_type": "execute_result"
    }
   ],
   "source": [
    "df.country.dropna()"
   ]
  },
  {
   "cell_type": "code",
   "execution_count": 73,
   "metadata": {},
   "outputs": [],
   "source": [
    "#remove NA-values in columns 'country'&'city'\n",
    "##save three variables: 'country', 'city', 'age'\n",
    "cities = df[(df.country.notna()) & (df.city.notna())][['country', 'city', 'age']]"
   ]
  },
  {
   "cell_type": "code",
   "execution_count": 189,
   "metadata": {},
   "outputs": [
    {
     "data": {
      "text/plain": [
       "(2507443, 7)"
      ]
     },
     "execution_count": 189,
     "metadata": {},
     "output_type": "execute_result"
    }
   ],
   "source": [
    "df.shape"
   ]
  },
  {
   "cell_type": "code",
   "execution_count": 79,
   "metadata": {},
   "outputs": [
    {
     "data": {
      "text/html": [
       "<div>\n",
       "<style scoped>\n",
       "    .dataframe tbody tr th:only-of-type {\n",
       "        vertical-align: middle;\n",
       "    }\n",
       "\n",
       "    .dataframe tbody tr th {\n",
       "        vertical-align: top;\n",
       "    }\n",
       "\n",
       "    .dataframe thead th {\n",
       "        text-align: right;\n",
       "    }\n",
       "</style>\n",
       "<table border=\"1\" class=\"dataframe\">\n",
       "  <thead>\n",
       "    <tr style=\"text-align: right;\">\n",
       "      <th></th>\n",
       "      <th>country</th>\n",
       "      <th>city</th>\n",
       "      <th>age</th>\n",
       "    </tr>\n",
       "  </thead>\n",
       "  <tbody>\n",
       "    <tr>\n",
       "      <th>0</th>\n",
       "      <td>Россия</td>\n",
       "      <td>Москва</td>\n",
       "      <td>33</td>\n",
       "    </tr>\n",
       "    <tr>\n",
       "      <th>1</th>\n",
       "      <td>Россия</td>\n",
       "      <td>Санкт-Петербург</td>\n",
       "      <td>34</td>\n",
       "    </tr>\n",
       "    <tr>\n",
       "      <th>2</th>\n",
       "      <td>США</td>\n",
       "      <td>Boston</td>\n",
       "      <td>34</td>\n",
       "    </tr>\n",
       "    <tr>\n",
       "      <th>3</th>\n",
       "      <td>Россия</td>\n",
       "      <td>Санкт-Петербург</td>\n",
       "      <td>35</td>\n",
       "    </tr>\n",
       "    <tr>\n",
       "      <th>4</th>\n",
       "      <td>Россия</td>\n",
       "      <td>Санкт-Петербург</td>\n",
       "      <td>36</td>\n",
       "    </tr>\n",
       "    <tr>\n",
       "      <th>...</th>\n",
       "      <td>...</td>\n",
       "      <td>...</td>\n",
       "      <td>...</td>\n",
       "    </tr>\n",
       "    <tr>\n",
       "      <th>2507432</th>\n",
       "      <td>Россия</td>\n",
       "      <td>Москва</td>\n",
       "      <td>29</td>\n",
       "    </tr>\n",
       "    <tr>\n",
       "      <th>2507433</th>\n",
       "      <td>Россия</td>\n",
       "      <td>Волгоград</td>\n",
       "      <td>32</td>\n",
       "    </tr>\n",
       "    <tr>\n",
       "      <th>2507436</th>\n",
       "      <td>Россия</td>\n",
       "      <td>Краснодар</td>\n",
       "      <td>29</td>\n",
       "    </tr>\n",
       "    <tr>\n",
       "      <th>2507441</th>\n",
       "      <td>Россия</td>\n",
       "      <td>Нижний Новгород</td>\n",
       "      <td>23</td>\n",
       "    </tr>\n",
       "    <tr>\n",
       "      <th>2507443</th>\n",
       "      <td>Россия</td>\n",
       "      <td>Краснодар</td>\n",
       "      <td>23</td>\n",
       "    </tr>\n",
       "  </tbody>\n",
       "</table>\n",
       "<p>1882706 rows × 3 columns</p>\n",
       "</div>"
      ],
      "text/plain": [
       "        country             city  age\n",
       "0        Россия           Москва   33\n",
       "1        Россия  Санкт-Петербург   34\n",
       "2           США           Boston   34\n",
       "3        Россия  Санкт-Петербург   35\n",
       "4        Россия  Санкт-Петербург   36\n",
       "...         ...              ...  ...\n",
       "2507432  Россия           Москва   29\n",
       "2507433  Россия        Волгоград   32\n",
       "2507436  Россия        Краснодар   29\n",
       "2507441  Россия  Нижний Новгород   23\n",
       "2507443  Россия        Краснодар   23\n",
       "\n",
       "[1882706 rows x 3 columns]"
      ]
     },
     "execution_count": 79,
     "metadata": {},
     "output_type": "execute_result"
    }
   ],
   "source": [
    "#from 2.5kk table has redused to 1.9kk\n",
    "cities"
   ]
  },
  {
   "cell_type": "code",
   "execution_count": 132,
   "metadata": {},
   "outputs": [],
   "source": [
    "#groupby table by 'country'&'city' and apply aggregation\n",
    "cities_grouped = cities.groupby(['country','city']).agg({'age':'median','city':'count'})"
   ]
  },
  {
   "cell_type": "code",
   "execution_count": 135,
   "metadata": {},
   "outputs": [],
   "source": [
    "#rename columns\n",
    "cities_grouped.columns = ['median_age', 'city_count']"
   ]
  },
  {
   "cell_type": "code",
   "execution_count": 138,
   "metadata": {},
   "outputs": [],
   "source": [
    "#reset index and sort by 'city_count'\n",
    "cities_grouped = cities_grouped.reset_index().sort_values(by='city_count', ascending=False)"
   ]
  },
  {
   "cell_type": "code",
   "execution_count": 142,
   "metadata": {},
   "outputs": [],
   "source": [
    "#drop duplicates in the city variable!\n",
    "cities_grouped = cities_grouped.drop_duplicates(subset=['city'])"
   ]
  },
  {
   "cell_type": "code",
   "execution_count": 190,
   "metadata": {},
   "outputs": [
    {
     "name": "stdout",
     "output_type": "stream",
     "text": [
      "Кол-во государств и прочих гос. образований: 231\n"
     ]
    }
   ],
   "source": [
    "#we've got more than 200 countries (of 197 official)\n",
    "##because there're unofficial states and other territories\n",
    "print('Кол-во государств и прочих гос. образований:',len(set(cities_grouped.country)))"
   ]
  },
  {
   "cell_type": "code",
   "execution_count": 143,
   "metadata": {},
   "outputs": [
    {
     "data": {
      "text/html": [
       "<div>\n",
       "<style scoped>\n",
       "    .dataframe tbody tr th:only-of-type {\n",
       "        vertical-align: middle;\n",
       "    }\n",
       "\n",
       "    .dataframe tbody tr th {\n",
       "        vertical-align: top;\n",
       "    }\n",
       "\n",
       "    .dataframe thead th {\n",
       "        text-align: right;\n",
       "    }\n",
       "</style>\n",
       "<table border=\"1\" class=\"dataframe\">\n",
       "  <thead>\n",
       "    <tr style=\"text-align: right;\">\n",
       "      <th></th>\n",
       "      <th>country</th>\n",
       "      <th>city</th>\n",
       "      <th>median_age</th>\n",
       "      <th>city_count</th>\n",
       "    </tr>\n",
       "  </thead>\n",
       "  <tbody>\n",
       "    <tr>\n",
       "      <th>9686</th>\n",
       "      <td>Россия</td>\n",
       "      <td>Москва</td>\n",
       "      <td>28.0</td>\n",
       "      <td>256574</td>\n",
       "    </tr>\n",
       "    <tr>\n",
       "      <th>11755</th>\n",
       "      <td>Россия</td>\n",
       "      <td>Санкт-Петербург</td>\n",
       "      <td>29.0</td>\n",
       "      <td>161151</td>\n",
       "    </tr>\n",
       "    <tr>\n",
       "      <th>692</th>\n",
       "      <td>Беларусь</td>\n",
       "      <td>Минск</td>\n",
       "      <td>27.0</td>\n",
       "      <td>41169</td>\n",
       "    </tr>\n",
       "    <tr>\n",
       "      <th>6902</th>\n",
       "      <td>Россия</td>\n",
       "      <td>Екатеринбург</td>\n",
       "      <td>28.0</td>\n",
       "      <td>35367</td>\n",
       "    </tr>\n",
       "    <tr>\n",
       "      <th>7607</th>\n",
       "      <td>Россия</td>\n",
       "      <td>Казань</td>\n",
       "      <td>28.0</td>\n",
       "      <td>33068</td>\n",
       "    </tr>\n",
       "    <tr>\n",
       "      <th>...</th>\n",
       "      <td>...</td>\n",
       "      <td>...</td>\n",
       "      <td>...</td>\n",
       "      <td>...</td>\n",
       "    </tr>\n",
       "    <tr>\n",
       "      <th>8330</th>\n",
       "      <td>Россия</td>\n",
       "      <td>Косяково</td>\n",
       "      <td>24.0</td>\n",
       "      <td>1</td>\n",
       "    </tr>\n",
       "    <tr>\n",
       "      <th>8331</th>\n",
       "      <td>Россия</td>\n",
       "      <td>Котегурт</td>\n",
       "      <td>24.0</td>\n",
       "      <td>1</td>\n",
       "    </tr>\n",
       "    <tr>\n",
       "      <th>8335</th>\n",
       "      <td>Россия</td>\n",
       "      <td>Котельный Мыс</td>\n",
       "      <td>42.0</td>\n",
       "      <td>1</td>\n",
       "    </tr>\n",
       "    <tr>\n",
       "      <th>8343</th>\n",
       "      <td>Россия</td>\n",
       "      <td>Коточиги</td>\n",
       "      <td>17.0</td>\n",
       "      <td>1</td>\n",
       "    </tr>\n",
       "    <tr>\n",
       "      <th>8346</th>\n",
       "      <td>Россия</td>\n",
       "      <td>Кохма (станция)</td>\n",
       "      <td>NaN</td>\n",
       "      <td>1</td>\n",
       "    </tr>\n",
       "  </tbody>\n",
       "</table>\n",
       "<p>18188 rows × 4 columns</p>\n",
       "</div>"
      ],
      "text/plain": [
       "        country             city  median_age  city_count\n",
       "9686     Россия           Москва        28.0      256574\n",
       "11755    Россия  Санкт-Петербург        29.0      161151\n",
       "692    Беларусь            Минск        27.0       41169\n",
       "6902     Россия     Екатеринбург        28.0       35367\n",
       "7607     Россия           Казань        28.0       33068\n",
       "...         ...              ...         ...         ...\n",
       "8330     Россия         Косяково        24.0           1\n",
       "8331     Россия         Котегурт        24.0           1\n",
       "8335     Россия    Котельный Мыс        42.0           1\n",
       "8343     Россия         Коточиги        17.0           1\n",
       "8346     Россия  Кохма (станция)         NaN           1\n",
       "\n",
       "[18188 rows x 4 columns]"
      ]
     },
     "execution_count": 143,
     "metadata": {},
     "output_type": "execute_result"
    }
   ],
   "source": [
    "#grouped table after droping duplicates\n",
    "cities_grouped"
   ]
  },
  {
   "cell_type": "code",
   "execution_count": 144,
   "metadata": {},
   "outputs": [],
   "source": [
    "def region(f):\n",
    "    '''takes in the variable COUNTRY, returns a new categorical variable \n",
    "    in a new column depending on the condition of the country belonging to group of countries'''\n",
    "    \n",
    "    if f['country']=='Россия': \n",
    "        return 'Россия'\n",
    "    elif f['country'] in ['Украина','Узбекистан','Туркменистан','Таджикистан','Молдова',\n",
    "                          'Кыргызстан','Казахстан','Беларусь','Армения','Азербайджан']:\n",
    "        return 'СНГ'\n",
    "    else: \n",
    "        return 'Другие страны'"
   ]
  },
  {
   "cell_type": "code",
   "execution_count": 145,
   "metadata": {
    "collapsed": true,
    "jupyter": {
     "outputs_hidden": true
    }
   },
   "outputs": [
    {
     "name": "stderr",
     "output_type": "stream",
     "text": [
      "<ipython-input-145-3f77fc6fe424>:1: SettingWithCopyWarning: \n",
      "A value is trying to be set on a copy of a slice from a DataFrame.\n",
      "Try using .loc[row_indexer,col_indexer] = value instead\n",
      "\n",
      "See the caveats in the documentation: https://pandas.pydata.org/pandas-docs/stable/user_guide/indexing.html#returning-a-view-versus-a-copy\n",
      "  cities_grouped['regions'] = cities_grouped.apply(region, axis=1)\n"
     ]
    }
   ],
   "source": [
    "#apply function\n",
    "cities_grouped['regions'] = cities_grouped.apply(region, axis=1)"
   ]
  },
  {
   "cell_type": "code",
   "execution_count": 146,
   "metadata": {},
   "outputs": [
    {
     "data": {
      "text/html": [
       "<div>\n",
       "<style scoped>\n",
       "    .dataframe tbody tr th:only-of-type {\n",
       "        vertical-align: middle;\n",
       "    }\n",
       "\n",
       "    .dataframe tbody tr th {\n",
       "        vertical-align: top;\n",
       "    }\n",
       "\n",
       "    .dataframe thead th {\n",
       "        text-align: right;\n",
       "    }\n",
       "</style>\n",
       "<table border=\"1\" class=\"dataframe\">\n",
       "  <thead>\n",
       "    <tr style=\"text-align: right;\">\n",
       "      <th></th>\n",
       "      <th>country</th>\n",
       "      <th>city</th>\n",
       "      <th>median_age</th>\n",
       "      <th>city_count</th>\n",
       "      <th>regions</th>\n",
       "    </tr>\n",
       "  </thead>\n",
       "  <tbody>\n",
       "    <tr>\n",
       "      <th>9686</th>\n",
       "      <td>Россия</td>\n",
       "      <td>Москва</td>\n",
       "      <td>28.0</td>\n",
       "      <td>256574</td>\n",
       "      <td>Россия</td>\n",
       "    </tr>\n",
       "    <tr>\n",
       "      <th>11755</th>\n",
       "      <td>Россия</td>\n",
       "      <td>Санкт-Петербург</td>\n",
       "      <td>29.0</td>\n",
       "      <td>161151</td>\n",
       "      <td>Россия</td>\n",
       "    </tr>\n",
       "    <tr>\n",
       "      <th>692</th>\n",
       "      <td>Беларусь</td>\n",
       "      <td>Минск</td>\n",
       "      <td>27.0</td>\n",
       "      <td>41169</td>\n",
       "      <td>СНГ</td>\n",
       "    </tr>\n",
       "    <tr>\n",
       "      <th>6902</th>\n",
       "      <td>Россия</td>\n",
       "      <td>Екатеринбург</td>\n",
       "      <td>28.0</td>\n",
       "      <td>35367</td>\n",
       "      <td>Россия</td>\n",
       "    </tr>\n",
       "    <tr>\n",
       "      <th>7607</th>\n",
       "      <td>Россия</td>\n",
       "      <td>Казань</td>\n",
       "      <td>28.0</td>\n",
       "      <td>33068</td>\n",
       "      <td>Россия</td>\n",
       "    </tr>\n",
       "    <tr>\n",
       "      <th>...</th>\n",
       "      <td>...</td>\n",
       "      <td>...</td>\n",
       "      <td>...</td>\n",
       "      <td>...</td>\n",
       "      <td>...</td>\n",
       "    </tr>\n",
       "    <tr>\n",
       "      <th>8330</th>\n",
       "      <td>Россия</td>\n",
       "      <td>Косяково</td>\n",
       "      <td>24.0</td>\n",
       "      <td>1</td>\n",
       "      <td>Россия</td>\n",
       "    </tr>\n",
       "    <tr>\n",
       "      <th>8331</th>\n",
       "      <td>Россия</td>\n",
       "      <td>Котегурт</td>\n",
       "      <td>24.0</td>\n",
       "      <td>1</td>\n",
       "      <td>Россия</td>\n",
       "    </tr>\n",
       "    <tr>\n",
       "      <th>8335</th>\n",
       "      <td>Россия</td>\n",
       "      <td>Котельный Мыс</td>\n",
       "      <td>42.0</td>\n",
       "      <td>1</td>\n",
       "      <td>Россия</td>\n",
       "    </tr>\n",
       "    <tr>\n",
       "      <th>8343</th>\n",
       "      <td>Россия</td>\n",
       "      <td>Коточиги</td>\n",
       "      <td>17.0</td>\n",
       "      <td>1</td>\n",
       "      <td>Россия</td>\n",
       "    </tr>\n",
       "    <tr>\n",
       "      <th>8346</th>\n",
       "      <td>Россия</td>\n",
       "      <td>Кохма (станция)</td>\n",
       "      <td>NaN</td>\n",
       "      <td>1</td>\n",
       "      <td>Россия</td>\n",
       "    </tr>\n",
       "  </tbody>\n",
       "</table>\n",
       "<p>18188 rows × 5 columns</p>\n",
       "</div>"
      ],
      "text/plain": [
       "        country             city  median_age  city_count regions\n",
       "9686     Россия           Москва        28.0      256574  Россия\n",
       "11755    Россия  Санкт-Петербург        29.0      161151  Россия\n",
       "692    Беларусь            Минск        27.0       41169     СНГ\n",
       "6902     Россия     Екатеринбург        28.0       35367  Россия\n",
       "7607     Россия           Казань        28.0       33068  Россия\n",
       "...         ...              ...         ...         ...     ...\n",
       "8330     Россия         Косяково        24.0           1  Россия\n",
       "8331     Россия         Котегурт        24.0           1  Россия\n",
       "8335     Россия    Котельный Мыс        42.0           1  Россия\n",
       "8343     Россия         Коточиги        17.0           1  Россия\n",
       "8346     Россия  Кохма (станция)         NaN           1  Россия\n",
       "\n",
       "[18188 rows x 5 columns]"
      ]
     },
     "execution_count": 146,
     "metadata": {},
     "output_type": "execute_result"
    }
   ],
   "source": [
    "#we've got the column 'regions'\n",
    "cities_grouped"
   ]
  },
  {
   "cell_type": "code",
   "execution_count": 163,
   "metadata": {},
   "outputs": [
    {
     "data": {
      "text/html": [
       "<div>\n",
       "<style scoped>\n",
       "    .dataframe tbody tr th:only-of-type {\n",
       "        vertical-align: middle;\n",
       "    }\n",
       "\n",
       "    .dataframe tbody tr th {\n",
       "        vertical-align: top;\n",
       "    }\n",
       "\n",
       "    .dataframe thead th {\n",
       "        text-align: right;\n",
       "    }\n",
       "</style>\n",
       "<table border=\"1\" class=\"dataframe\">\n",
       "  <thead>\n",
       "    <tr style=\"text-align: right;\">\n",
       "      <th></th>\n",
       "      <th>country</th>\n",
       "      <th>city</th>\n",
       "      <th>city_count</th>\n",
       "      <th>median_age</th>\n",
       "    </tr>\n",
       "    <tr>\n",
       "      <th>regions</th>\n",
       "      <th></th>\n",
       "      <th></th>\n",
       "      <th></th>\n",
       "      <th></th>\n",
       "    </tr>\n",
       "  </thead>\n",
       "  <tbody>\n",
       "    <tr>\n",
       "      <th>Другие страны</th>\n",
       "      <td>220</td>\n",
       "      <td>4900</td>\n",
       "      <td>70766</td>\n",
       "      <td>31.404291</td>\n",
       "    </tr>\n",
       "    <tr>\n",
       "      <th>Россия</th>\n",
       "      <td>1</td>\n",
       "      <td>9769</td>\n",
       "      <td>1496268</td>\n",
       "      <td>31.001436</td>\n",
       "    </tr>\n",
       "    <tr>\n",
       "      <th>СНГ</th>\n",
       "      <td>10</td>\n",
       "      <td>3519</td>\n",
       "      <td>309081</td>\n",
       "      <td>28.770737</td>\n",
       "    </tr>\n",
       "  </tbody>\n",
       "</table>\n",
       "</div>"
      ],
      "text/plain": [
       "               country  city  city_count  median_age\n",
       "regions                                             \n",
       "Другие страны      220  4900       70766   31.404291\n",
       "Россия               1  9769     1496268   31.001436\n",
       "СНГ                 10  3519      309081   28.770737"
      ]
     },
     "execution_count": 163,
     "metadata": {},
     "output_type": "execute_result"
    }
   ],
   "source": [
    "#make a pivot table for REGIONS\n",
    "cities_grouped.groupby('regions').agg({'country':lambda x: x.nunique(),\n",
    "                                       'city':lambda x: x.nunique(),\n",
    "                                       'city_count':'sum',\n",
    "                                       'median_age':'mean'})"
   ]
  },
  {
   "cell_type": "code",
   "execution_count": null,
   "metadata": {},
   "outputs": [],
   "source": [
    "##we can clean coutries manually, to remove exra countries that are not official\n",
    "# fnames = {'Американское Самоа':'США','Ангилья':'Великобритания',\n",
    "#          'Аруба':'Нидерланды','Багамы':'Великобритания','Бермуды':'Великобритания',\n",
    "#          'Виргинские острова, Великобритания':'Великобритания',\n",
    "#          'Виргинские острова, США':'США','Гваделупа':'Франция',\n",
    "#          'Гибралтар':'Великобритания','Гонконг':'Китай','Гренландия':'Дания',\n",
    "#          'Гуам':'США','Конго, демократическая республика':'Конго',\n",
    "#          'Кюрасао':'Нидерланды','Макао':'Китай','Мартиника':'Франция',\n",
    "#          'Монтсеррат':'Великобритания'}"
   ]
  },
  {
   "cell_type": "code",
   "execution_count": 181,
   "metadata": {
    "collapsed": true,
    "jupyter": {
     "outputs_hidden": true
    }
   },
   "outputs": [
    {
     "data": {
      "text/plain": [
       "{'Австралия',\n",
       " 'Австрия',\n",
       " 'Азербайджан',\n",
       " 'Албания',\n",
       " 'Алжир',\n",
       " 'Американское Самоа',\n",
       " 'Ангилья',\n",
       " 'Ангола',\n",
       " 'Андорра',\n",
       " 'Антигуа и Барбуда',\n",
       " 'Аргентина',\n",
       " 'Армения',\n",
       " 'Аруба',\n",
       " 'Афганистан',\n",
       " 'Багамы',\n",
       " 'Бангладеш',\n",
       " 'Барбадос',\n",
       " 'Бахрейн',\n",
       " 'Беларусь',\n",
       " 'Белиз',\n",
       " 'Бельгия',\n",
       " 'Бенин',\n",
       " 'Бермуды',\n",
       " 'Болгария',\n",
       " 'Боливия',\n",
       " 'Босния и Герцеговина',\n",
       " 'Ботсвана',\n",
       " 'Бразилия',\n",
       " 'Бруней',\n",
       " 'Буркина-Фасо',\n",
       " 'Бурунди',\n",
       " 'Бутан',\n",
       " 'Вануату',\n",
       " 'Ватикан',\n",
       " 'Великобритания',\n",
       " 'Венгрия',\n",
       " 'Венесуэла',\n",
       " 'Виргинские острова, Великобритания',\n",
       " 'Виргинские острова, США',\n",
       " 'Восточный Тимор',\n",
       " 'Вьетнам',\n",
       " 'Габон',\n",
       " 'Гаити',\n",
       " 'Гайана',\n",
       " 'Гамбия',\n",
       " 'Гана',\n",
       " 'Гваделупа',\n",
       " 'Гватемала',\n",
       " 'Гвинея',\n",
       " 'Гвинея-Бисау',\n",
       " 'Германия',\n",
       " 'Гибралтар',\n",
       " 'Гондурас',\n",
       " 'Гонконг',\n",
       " 'Гренада',\n",
       " 'Гренландия',\n",
       " 'Греция',\n",
       " 'Грузия',\n",
       " 'Гуам',\n",
       " 'Дания',\n",
       " 'Джибути',\n",
       " 'Доминика',\n",
       " 'Доминиканская Республика',\n",
       " 'Египет',\n",
       " 'Замбия',\n",
       " 'Западная Сахара',\n",
       " 'Зимбабве',\n",
       " 'Израиль',\n",
       " 'Индия',\n",
       " 'Индонезия',\n",
       " 'Иордания',\n",
       " 'Ирак',\n",
       " 'Иран',\n",
       " 'Ирландия',\n",
       " 'Исландия',\n",
       " 'Испания',\n",
       " 'Италия',\n",
       " 'Йемен',\n",
       " 'Кабо-Верде',\n",
       " 'Казахстан',\n",
       " 'Камбоджа',\n",
       " 'Камерун',\n",
       " 'Канада',\n",
       " 'Катар',\n",
       " 'Кения',\n",
       " 'Кипр',\n",
       " 'Кирибати',\n",
       " 'Китай',\n",
       " 'Колумбия',\n",
       " 'Коморы',\n",
       " 'Конго',\n",
       " 'Конго, демократическая республика',\n",
       " 'Коста-Рика',\n",
       " \"Кот-д'Ивуар\",\n",
       " 'Куба',\n",
       " 'Кувейт',\n",
       " 'Кыргызстан',\n",
       " 'Кюрасао',\n",
       " 'Лаос',\n",
       " 'Латвия',\n",
       " 'Лесото',\n",
       " 'Либерия',\n",
       " 'Ливан',\n",
       " 'Ливия',\n",
       " 'Литва',\n",
       " 'Лихтенштейн',\n",
       " 'Люксембург',\n",
       " 'Маврикий',\n",
       " 'Мавритания',\n",
       " 'Мадагаскар',\n",
       " 'Макао',\n",
       " 'Малави',\n",
       " 'Малайзия',\n",
       " 'Мали',\n",
       " 'Мальдивы',\n",
       " 'Мальта',\n",
       " 'Марокко',\n",
       " 'Мартиника',\n",
       " 'Маршалловы Острова',\n",
       " 'Мексика',\n",
       " 'Микронезия, федеративные штаты',\n",
       " 'Мозамбик',\n",
       " 'Молдова',\n",
       " 'Монако',\n",
       " 'Монголия',\n",
       " 'Монтсеррат',\n",
       " 'Мьянма',\n",
       " 'Намибия',\n",
       " 'Науру',\n",
       " 'Непал',\n",
       " 'Нигер',\n",
       " 'Нигерия',\n",
       " 'Нидерланды',\n",
       " 'Никарагуа',\n",
       " 'Ниуэ',\n",
       " 'Новая Зеландия',\n",
       " 'Новая Каледония',\n",
       " 'Норвегия',\n",
       " 'Объединенные Арабские Эмираты',\n",
       " 'Оман',\n",
       " 'Остров Мэн',\n",
       " 'Острова Кайман',\n",
       " 'Острова Кука',\n",
       " 'Острова Теркс и Кайкос',\n",
       " 'Пакистан',\n",
       " 'Палау',\n",
       " 'Палестинская автономия',\n",
       " 'Панама',\n",
       " 'Папуа — Новая Гвинея',\n",
       " 'Парагвай',\n",
       " 'Перу',\n",
       " 'Питкерн',\n",
       " 'Польша',\n",
       " 'Португалия',\n",
       " 'Пуэрто-Рико',\n",
       " 'Реюньон',\n",
       " 'Россия',\n",
       " 'Руанда',\n",
       " 'Румыния',\n",
       " 'США',\n",
       " 'Сальвадор',\n",
       " 'Самоа',\n",
       " 'Сан-Марино',\n",
       " 'Сан-Томе и Принсипи',\n",
       " 'Саудовская Аравия',\n",
       " 'Святая Елена',\n",
       " 'Северная Корея',\n",
       " 'Северная Македония',\n",
       " 'Северные Марианские острова',\n",
       " 'Сейшелы',\n",
       " 'Сенегал',\n",
       " 'Сент-Винсент и Гренадины',\n",
       " 'Сент-Китс и Невис',\n",
       " 'Сент-Люсия',\n",
       " 'Сент-Пьер и Микелон',\n",
       " 'Сербия',\n",
       " 'Сингапур',\n",
       " 'Сирия',\n",
       " 'Словакия',\n",
       " 'Словения',\n",
       " 'Соломоновы Острова',\n",
       " 'Сомали',\n",
       " 'Судан',\n",
       " 'Суринам',\n",
       " 'Сьерра-Леоне',\n",
       " 'Таджикистан',\n",
       " 'Таиланд',\n",
       " 'Тайвань',\n",
       " 'Танзания',\n",
       " 'Того',\n",
       " 'Токелау',\n",
       " 'Тонга',\n",
       " 'Тринидад и Тобаго',\n",
       " 'Тувалу',\n",
       " 'Тунис',\n",
       " 'Туркменистан',\n",
       " 'Турция',\n",
       " 'Уганда',\n",
       " 'Узбекистан',\n",
       " 'Украина',\n",
       " 'Уоллис и Футуна',\n",
       " 'Уругвай',\n",
       " 'Фарерские острова',\n",
       " 'Фиджи',\n",
       " 'Филиппины',\n",
       " 'Финляндия',\n",
       " 'Фолклендские острова',\n",
       " 'Франция',\n",
       " 'Французская Гвиана',\n",
       " 'Французская Полинезия',\n",
       " 'Хорватия',\n",
       " 'Центральноафриканская Республика',\n",
       " 'Чад',\n",
       " 'Черногория',\n",
       " 'Чехия',\n",
       " 'Чили',\n",
       " 'Швейцария',\n",
       " 'Швеция',\n",
       " 'Шпицберген и Ян Майен',\n",
       " 'Шри-Ланка',\n",
       " 'Эквадор',\n",
       " 'Экваториальная Гвинея',\n",
       " 'Эритрея',\n",
       " 'Эсватини',\n",
       " 'Эстония',\n",
       " 'Эфиопия',\n",
       " 'Южная Корея',\n",
       " 'Южно-Африканская Республика',\n",
       " 'Южный Судан',\n",
       " 'Ямайка',\n",
       " 'Япония'}"
      ]
     },
     "execution_count": 181,
     "metadata": {},
     "output_type": "execute_result"
    }
   ],
   "source": [
    "##countries from this set\n",
    "# all_countries_clean = set(cities_grouped.country)\n",
    "# all_countries_clean"
   ]
  },
  {
   "cell_type": "markdown",
   "metadata": {},
   "source": [
    "### Russian statistics"
   ]
  },
  {
   "cell_type": "code",
   "execution_count": 152,
   "metadata": {
    "collapsed": true,
    "jupyter": {
     "outputs_hidden": true
    }
   },
   "outputs": [
    {
     "name": "stderr",
     "output_type": "stream",
     "text": [
      "<ipython-input-152-068077b08ade>:2: SettingWithCopyWarning: \n",
      "A value is trying to be set on a copy of a slice from a DataFrame.\n",
      "Try using .loc[row_indexer,col_indexer] = value instead\n",
      "\n",
      "See the caveats in the documentation: https://pandas.pydata.org/pandas-docs/stable/user_guide/indexing.html#returning-a-view-versus-a-copy\n",
      "  cities_grouped_rus['norm'] = (round(cities_grouped_rus['city_count']\n"
     ]
    }
   ],
   "source": [
    "cities_grouped_rus = cities_grouped[cities_grouped['regions']=='Россия']\n",
    "cities_grouped_rus['norm'] = (round(cities_grouped_rus['city_count']\n",
    "                                    /sum(cities_grouped_rus['city_count']) * 100, 4))"
   ]
  },
  {
   "cell_type": "code",
   "execution_count": 156,
   "metadata": {},
   "outputs": [
    {
     "data": {
      "text/html": [
       "<div>\n",
       "<style scoped>\n",
       "    .dataframe tbody tr th:only-of-type {\n",
       "        vertical-align: middle;\n",
       "    }\n",
       "\n",
       "    .dataframe tbody tr th {\n",
       "        vertical-align: top;\n",
       "    }\n",
       "\n",
       "    .dataframe thead th {\n",
       "        text-align: right;\n",
       "    }\n",
       "</style>\n",
       "<table border=\"1\" class=\"dataframe\">\n",
       "  <thead>\n",
       "    <tr style=\"text-align: right;\">\n",
       "      <th></th>\n",
       "      <th>country</th>\n",
       "      <th>city</th>\n",
       "      <th>median_age</th>\n",
       "      <th>city_count</th>\n",
       "      <th>regions</th>\n",
       "      <th>norm</th>\n",
       "    </tr>\n",
       "  </thead>\n",
       "  <tbody>\n",
       "    <tr>\n",
       "      <th>9686</th>\n",
       "      <td>Россия</td>\n",
       "      <td>Москва</td>\n",
       "      <td>28.0</td>\n",
       "      <td>256574</td>\n",
       "      <td>Россия</td>\n",
       "      <td>17.1476</td>\n",
       "    </tr>\n",
       "    <tr>\n",
       "      <th>11755</th>\n",
       "      <td>Россия</td>\n",
       "      <td>Санкт-Петербург</td>\n",
       "      <td>29.0</td>\n",
       "      <td>161151</td>\n",
       "      <td>Россия</td>\n",
       "      <td>10.7702</td>\n",
       "    </tr>\n",
       "    <tr>\n",
       "      <th>6902</th>\n",
       "      <td>Россия</td>\n",
       "      <td>Екатеринбург</td>\n",
       "      <td>28.0</td>\n",
       "      <td>35367</td>\n",
       "      <td>Россия</td>\n",
       "      <td>2.3637</td>\n",
       "    </tr>\n",
       "    <tr>\n",
       "      <th>7607</th>\n",
       "      <td>Россия</td>\n",
       "      <td>Казань</td>\n",
       "      <td>28.0</td>\n",
       "      <td>33068</td>\n",
       "      <td>Россия</td>\n",
       "      <td>2.2100</td>\n",
       "    </tr>\n",
       "    <tr>\n",
       "      <th>10331</th>\n",
       "      <td>Россия</td>\n",
       "      <td>Новосибирск</td>\n",
       "      <td>28.0</td>\n",
       "      <td>32296</td>\n",
       "      <td>Россия</td>\n",
       "      <td>2.1584</td>\n",
       "    </tr>\n",
       "    <tr>\n",
       "      <th>8429</th>\n",
       "      <td>Россия</td>\n",
       "      <td>Краснодар</td>\n",
       "      <td>27.0</td>\n",
       "      <td>27239</td>\n",
       "      <td>Россия</td>\n",
       "      <td>1.8205</td>\n",
       "    </tr>\n",
       "    <tr>\n",
       "      <th>10011</th>\n",
       "      <td>Россия</td>\n",
       "      <td>Нижний Новгород</td>\n",
       "      <td>28.0</td>\n",
       "      <td>26942</td>\n",
       "      <td>Россия</td>\n",
       "      <td>1.8006</td>\n",
       "    </tr>\n",
       "  </tbody>\n",
       "</table>\n",
       "</div>"
      ],
      "text/plain": [
       "      country             city  median_age  city_count regions     norm\n",
       "9686   Россия           Москва        28.0      256574  Россия  17.1476\n",
       "11755  Россия  Санкт-Петербург        29.0      161151  Россия  10.7702\n",
       "6902   Россия     Екатеринбург        28.0       35367  Россия   2.3637\n",
       "7607   Россия           Казань        28.0       33068  Россия   2.2100\n",
       "10331  Россия      Новосибирск        28.0       32296  Россия   2.1584\n",
       "8429   Россия        Краснодар        27.0       27239  Россия   1.8205\n",
       "10011  Россия  Нижний Новгород        28.0       26942  Россия   1.8006"
      ]
     },
     "execution_count": 156,
     "metadata": {},
     "output_type": "execute_result"
    }
   ],
   "source": [
    "cities_grouped_rus.head(7)"
   ]
  },
  {
   "cell_type": "markdown",
   "metadata": {},
   "source": [
    "## Russian cities statistics by age"
   ]
  },
  {
   "cell_type": "code",
   "execution_count": 318,
   "metadata": {},
   "outputs": [],
   "source": [
    "#some age variables may by false because of users can choose any date from 1902\n",
    "##we manually choose the most reasonable age interval\n",
    "#sorted(Counter(df.age.dropna()).items())  ##chosen 66 y.o."
   ]
  },
  {
   "cell_type": "code",
   "execution_count": 319,
   "metadata": {},
   "outputs": [],
   "source": [
    "cities_grouped_rus_ = cities_grouped_rus[cities_grouped_rus['median_age']<=66]"
   ]
  },
  {
   "cell_type": "code",
   "execution_count": 324,
   "metadata": {},
   "outputs": [
    {
     "name": "stdout",
     "output_type": "stream",
     "text": [
      "Минимальный возраст в таблице: 14.0\n",
      "Максимальный возраст в таблице: 66.0\n"
     ]
    }
   ],
   "source": [
    "print('Минимальный возраст в таблице:',cities_grouped_rus_.median_age.min())\n",
    "print('Максимальный возраст в таблице:',cities_grouped_rus_.median_age.max())"
   ]
  },
  {
   "cell_type": "code",
   "execution_count": 328,
   "metadata": {},
   "outputs": [],
   "source": [
    "def age_groups(f):\n",
    "    '''takes in the variable median_age, returns a new categorical variable \n",
    "    in a new column depending on the condition of the median_age belonging \n",
    "    to one of the age intervals'''\n",
    "    \n",
    "    if f['median_age'] <= 20: \n",
    "        return '14-20 лет', 1\n",
    "    elif 20 < f['median_age'] <= 25:\n",
    "        return '20-25 лет', 2\n",
    "    elif 25 < f['median_age'] <= 30:\n",
    "        return '25-30 лет', 3    \n",
    "    elif 30 < f['median_age'] <= 35:\n",
    "        return '30-35 лет', 4\n",
    "    elif 35 < f['median_age'] <= 40:\n",
    "        return '35-40 лет', 5\n",
    "    elif 40 < f['median_age'] <= 45:\n",
    "        return '40-45 лет', 6    \n",
    "    elif 45 < f['median_age'] <= 50:\n",
    "        return '45-50 лет', 7 \n",
    "    elif 50 < f['median_age'] <= 55:\n",
    "        return '50-55 лет', 8\n",
    "    elif 55 < f['median_age'] <= 60:\n",
    "        return '55-60 лет', 9     \n",
    "    else: \n",
    "        return '60-66 лет', 10"
   ]
  },
  {
   "cell_type": "code",
   "execution_count": 344,
   "metadata": {
    "collapsed": true,
    "jupyter": {
     "outputs_hidden": true
    }
   },
   "outputs": [
    {
     "name": "stderr",
     "output_type": "stream",
     "text": [
      "<ipython-input-344-cb83bdc1b80b>:2: SettingWithCopyWarning: \n",
      "A value is trying to be set on a copy of a slice from a DataFrame.\n",
      "Try using .loc[row_indexer,col_indexer] = value instead\n",
      "\n",
      "See the caveats in the documentation: https://pandas.pydata.org/pandas-docs/stable/user_guide/indexing.html#returning-a-view-versus-a-copy\n",
      "  cities_grouped_rus_['age_interval'] = cities_grouped_rus_.apply(age_groups, axis=1)\n"
     ]
    }
   ],
   "source": [
    "#apply function\n",
    "cities_grouped_rus_['age_interval'] = cities_grouped_rus_.apply(age_groups, axis=1)"
   ]
  },
  {
   "cell_type": "code",
   "execution_count": 346,
   "metadata": {
    "collapsed": true,
    "jupyter": {
     "outputs_hidden": true
    }
   },
   "outputs": [
    {
     "name": "stderr",
     "output_type": "stream",
     "text": [
      "<ipython-input-346-38053c035d97>:1: FutureWarning: Columnar iteration over characters will be deprecated in future releases.\n",
      "  cities_grouped_rus_['age_interval'], cities_grouped_rus_['age_interval_cat'] = cities_grouped_rus_['age_interval'].str\n",
      "<ipython-input-346-38053c035d97>:1: SettingWithCopyWarning: \n",
      "A value is trying to be set on a copy of a slice from a DataFrame.\n",
      "Try using .loc[row_indexer,col_indexer] = value instead\n",
      "\n",
      "See the caveats in the documentation: https://pandas.pydata.org/pandas-docs/stable/user_guide/indexing.html#returning-a-view-versus-a-copy\n",
      "  cities_grouped_rus_['age_interval'], cities_grouped_rus_['age_interval_cat'] = cities_grouped_rus_['age_interval'].str\n"
     ]
    }
   ],
   "source": [
    "cities_grouped_rus_['age_interval'], cities_grouped_rus_['age_interval_cat'] = cities_grouped_rus_['age_interval'].str"
   ]
  },
  {
   "cell_type": "code",
   "execution_count": 350,
   "metadata": {},
   "outputs": [
    {
     "data": {
      "text/plain": [
       "1494535"
      ]
     },
     "execution_count": 350,
     "metadata": {},
     "output_type": "execute_result"
    }
   ],
   "source": [
    "sum(cities_grouped_rus_.city_count)"
   ]
  },
  {
   "cell_type": "code",
   "execution_count": 349,
   "metadata": {},
   "outputs": [
    {
     "data": {
      "text/html": [
       "<div>\n",
       "<style scoped>\n",
       "    .dataframe tbody tr th:only-of-type {\n",
       "        vertical-align: middle;\n",
       "    }\n",
       "\n",
       "    .dataframe tbody tr th {\n",
       "        vertical-align: top;\n",
       "    }\n",
       "\n",
       "    .dataframe thead th {\n",
       "        text-align: right;\n",
       "    }\n",
       "</style>\n",
       "<table border=\"1\" class=\"dataframe\">\n",
       "  <thead>\n",
       "    <tr style=\"text-align: right;\">\n",
       "      <th></th>\n",
       "      <th>country</th>\n",
       "      <th>city</th>\n",
       "      <th>median_age</th>\n",
       "      <th>city_count</th>\n",
       "      <th>regions</th>\n",
       "      <th>norm</th>\n",
       "      <th>age_interval</th>\n",
       "      <th>age_interval_cat</th>\n",
       "    </tr>\n",
       "  </thead>\n",
       "  <tbody>\n",
       "    <tr>\n",
       "      <th>9686</th>\n",
       "      <td>Россия</td>\n",
       "      <td>Москва</td>\n",
       "      <td>28.0</td>\n",
       "      <td>256574</td>\n",
       "      <td>Россия</td>\n",
       "      <td>17.1476</td>\n",
       "      <td>25-30 лет</td>\n",
       "      <td>3</td>\n",
       "    </tr>\n",
       "    <tr>\n",
       "      <th>11755</th>\n",
       "      <td>Россия</td>\n",
       "      <td>Санкт-Петербург</td>\n",
       "      <td>29.0</td>\n",
       "      <td>161151</td>\n",
       "      <td>Россия</td>\n",
       "      <td>10.7702</td>\n",
       "      <td>25-30 лет</td>\n",
       "      <td>3</td>\n",
       "    </tr>\n",
       "    <tr>\n",
       "      <th>6902</th>\n",
       "      <td>Россия</td>\n",
       "      <td>Екатеринбург</td>\n",
       "      <td>28.0</td>\n",
       "      <td>35367</td>\n",
       "      <td>Россия</td>\n",
       "      <td>2.3637</td>\n",
       "      <td>25-30 лет</td>\n",
       "      <td>3</td>\n",
       "    </tr>\n",
       "    <tr>\n",
       "      <th>7607</th>\n",
       "      <td>Россия</td>\n",
       "      <td>Казань</td>\n",
       "      <td>28.0</td>\n",
       "      <td>33068</td>\n",
       "      <td>Россия</td>\n",
       "      <td>2.2100</td>\n",
       "      <td>25-30 лет</td>\n",
       "      <td>3</td>\n",
       "    </tr>\n",
       "    <tr>\n",
       "      <th>10331</th>\n",
       "      <td>Россия</td>\n",
       "      <td>Новосибирск</td>\n",
       "      <td>28.0</td>\n",
       "      <td>32296</td>\n",
       "      <td>Россия</td>\n",
       "      <td>2.1584</td>\n",
       "      <td>25-30 лет</td>\n",
       "      <td>3</td>\n",
       "    </tr>\n",
       "    <tr>\n",
       "      <th>...</th>\n",
       "      <td>...</td>\n",
       "      <td>...</td>\n",
       "      <td>...</td>\n",
       "      <td>...</td>\n",
       "      <td>...</td>\n",
       "      <td>...</td>\n",
       "      <td>...</td>\n",
       "      <td>...</td>\n",
       "    </tr>\n",
       "    <tr>\n",
       "      <th>8321</th>\n",
       "      <td>Россия</td>\n",
       "      <td>Костово</td>\n",
       "      <td>23.0</td>\n",
       "      <td>1</td>\n",
       "      <td>Россия</td>\n",
       "      <td>0.0001</td>\n",
       "      <td>20-25 лет</td>\n",
       "      <td>2</td>\n",
       "    </tr>\n",
       "    <tr>\n",
       "      <th>8330</th>\n",
       "      <td>Россия</td>\n",
       "      <td>Косяково</td>\n",
       "      <td>24.0</td>\n",
       "      <td>1</td>\n",
       "      <td>Россия</td>\n",
       "      <td>0.0001</td>\n",
       "      <td>20-25 лет</td>\n",
       "      <td>2</td>\n",
       "    </tr>\n",
       "    <tr>\n",
       "      <th>8331</th>\n",
       "      <td>Россия</td>\n",
       "      <td>Котегурт</td>\n",
       "      <td>24.0</td>\n",
       "      <td>1</td>\n",
       "      <td>Россия</td>\n",
       "      <td>0.0001</td>\n",
       "      <td>20-25 лет</td>\n",
       "      <td>2</td>\n",
       "    </tr>\n",
       "    <tr>\n",
       "      <th>8335</th>\n",
       "      <td>Россия</td>\n",
       "      <td>Котельный Мыс</td>\n",
       "      <td>42.0</td>\n",
       "      <td>1</td>\n",
       "      <td>Россия</td>\n",
       "      <td>0.0001</td>\n",
       "      <td>40-45 лет</td>\n",
       "      <td>6</td>\n",
       "    </tr>\n",
       "    <tr>\n",
       "      <th>8343</th>\n",
       "      <td>Россия</td>\n",
       "      <td>Коточиги</td>\n",
       "      <td>17.0</td>\n",
       "      <td>1</td>\n",
       "      <td>Россия</td>\n",
       "      <td>0.0001</td>\n",
       "      <td>14-20 лет</td>\n",
       "      <td>1</td>\n",
       "    </tr>\n",
       "  </tbody>\n",
       "</table>\n",
       "<p>8238 rows × 8 columns</p>\n",
       "</div>"
      ],
      "text/plain": [
       "      country             city  median_age  city_count regions     norm  \\\n",
       "9686   Россия           Москва        28.0      256574  Россия  17.1476   \n",
       "11755  Россия  Санкт-Петербург        29.0      161151  Россия  10.7702   \n",
       "6902   Россия     Екатеринбург        28.0       35367  Россия   2.3637   \n",
       "7607   Россия           Казань        28.0       33068  Россия   2.2100   \n",
       "10331  Россия      Новосибирск        28.0       32296  Россия   2.1584   \n",
       "...       ...              ...         ...         ...     ...      ...   \n",
       "8321   Россия          Костово        23.0           1  Россия   0.0001   \n",
       "8330   Россия         Косяково        24.0           1  Россия   0.0001   \n",
       "8331   Россия         Котегурт        24.0           1  Россия   0.0001   \n",
       "8335   Россия    Котельный Мыс        42.0           1  Россия   0.0001   \n",
       "8343   Россия         Коточиги        17.0           1  Россия   0.0001   \n",
       "\n",
       "      age_interval  age_interval_cat  \n",
       "9686     25-30 лет                 3  \n",
       "11755    25-30 лет                 3  \n",
       "6902     25-30 лет                 3  \n",
       "7607     25-30 лет                 3  \n",
       "10331    25-30 лет                 3  \n",
       "...            ...               ...  \n",
       "8321     20-25 лет                 2  \n",
       "8330     20-25 лет                 2  \n",
       "8331     20-25 лет                 2  \n",
       "8335     40-45 лет                 6  \n",
       "8343     14-20 лет                 1  \n",
       "\n",
       "[8238 rows x 8 columns]"
      ]
     },
     "execution_count": 349,
     "metadata": {},
     "output_type": "execute_result"
    }
   ],
   "source": [
    "cities_grouped_rus_"
   ]
  },
  {
   "cell_type": "code",
   "execution_count": 348,
   "metadata": {},
   "outputs": [],
   "source": [
    "cities_grouped_rus_.to_csv('data/RUS_CITIES_WITH_AGE.csv')"
   ]
  },
  {
   "cell_type": "code",
   "execution_count": null,
   "metadata": {},
   "outputs": [],
   "source": [
    "#E1DAE3 "
   ]
  },
  {
   "cell_type": "code",
   "execution_count": 286,
   "metadata": {},
   "outputs": [],
   "source": [
    "#groupby to see age distribution across russian cities\n",
    "rus_cities_by_age = (cities_grouped_rus.groupby('median_age')\n",
    "                     .agg({'city':lambda x: list(x)[:3],\n",
    "                     'city_count':'sum'})\n",
    "                     #'city_count':'sum'})\n",
    "                     .reset_index()\n",
    "                     .sort_values('city_count', ascending=False))"
   ]
  },
  {
   "cell_type": "code",
   "execution_count": 287,
   "metadata": {
    "collapsed": true,
    "jupyter": {
     "outputs_hidden": true
    }
   },
   "outputs": [
    {
     "data": {
      "text/html": [
       "<div>\n",
       "<style scoped>\n",
       "    .dataframe tbody tr th:only-of-type {\n",
       "        vertical-align: middle;\n",
       "    }\n",
       "\n",
       "    .dataframe tbody tr th {\n",
       "        vertical-align: top;\n",
       "    }\n",
       "\n",
       "    .dataframe thead th {\n",
       "        text-align: right;\n",
       "    }\n",
       "</style>\n",
       "<table border=\"1\" class=\"dataframe\">\n",
       "  <thead>\n",
       "    <tr style=\"text-align: right;\">\n",
       "      <th></th>\n",
       "      <th>median_age</th>\n",
       "      <th>city</th>\n",
       "      <th>city_count</th>\n",
       "    </tr>\n",
       "  </thead>\n",
       "  <tbody>\n",
       "    <tr>\n",
       "      <th>27</th>\n",
       "      <td>28.0</td>\n",
       "      <td>[Москва, Екатеринбург, Казань]</td>\n",
       "      <td>875506</td>\n",
       "    </tr>\n",
       "    <tr>\n",
       "      <th>29</th>\n",
       "      <td>29.0</td>\n",
       "      <td>[Санкт-Петербург, Тольятти, Набережные Челны]</td>\n",
       "      <td>312769</td>\n",
       "    </tr>\n",
       "    <tr>\n",
       "      <th>25</th>\n",
       "      <td>27.0</td>\n",
       "      <td>[Краснодар, Воронеж, Волгоград]</td>\n",
       "      <td>211879</td>\n",
       "    </tr>\n",
       "    <tr>\n",
       "      <th>31</th>\n",
       "      <td>30.0</td>\n",
       "      <td>[Рыбинск, Нефтекамск, Элиста]</td>\n",
       "      <td>37577</td>\n",
       "    </tr>\n",
       "    <tr>\n",
       "      <th>33</th>\n",
       "      <td>31.0</td>\n",
       "      <td>[Мелеуз, Сатка, Вельск]</td>\n",
       "      <td>11509</td>\n",
       "    </tr>\n",
       "    <tr>\n",
       "      <th>...</th>\n",
       "      <td>...</td>\n",
       "      <td>...</td>\n",
       "      <td>...</td>\n",
       "    </tr>\n",
       "    <tr>\n",
       "      <th>120</th>\n",
       "      <td>95.0</td>\n",
       "      <td>[Приморка]</td>\n",
       "      <td>1</td>\n",
       "    </tr>\n",
       "    <tr>\n",
       "      <th>128</th>\n",
       "      <td>110.0</td>\n",
       "      <td>[Петушки (деревня)]</td>\n",
       "      <td>1</td>\n",
       "    </tr>\n",
       "    <tr>\n",
       "      <th>127</th>\n",
       "      <td>108.0</td>\n",
       "      <td>[Могильник]</td>\n",
       "      <td>1</td>\n",
       "    </tr>\n",
       "    <tr>\n",
       "      <th>126</th>\n",
       "      <td>106.0</td>\n",
       "      <td>[Новый Ислам]</td>\n",
       "      <td>1</td>\n",
       "    </tr>\n",
       "    <tr>\n",
       "      <th>119</th>\n",
       "      <td>94.0</td>\n",
       "      <td>[Шумарово]</td>\n",
       "      <td>1</td>\n",
       "    </tr>\n",
       "  </tbody>\n",
       "</table>\n",
       "<p>138 rows × 3 columns</p>\n",
       "</div>"
      ],
      "text/plain": [
       "     median_age                                           city  city_count\n",
       "27         28.0                 [Москва, Екатеринбург, Казань]      875506\n",
       "29         29.0  [Санкт-Петербург, Тольятти, Набережные Челны]      312769\n",
       "25         27.0                [Краснодар, Воронеж, Волгоград]      211879\n",
       "31         30.0                  [Рыбинск, Нефтекамск, Элиста]       37577\n",
       "33         31.0                        [Мелеуз, Сатка, Вельск]       11509\n",
       "..          ...                                            ...         ...\n",
       "120        95.0                                     [Приморка]           1\n",
       "128       110.0                            [Петушки (деревня)]           1\n",
       "127       108.0                                    [Могильник]           1\n",
       "126       106.0                                  [Новый Ислам]           1\n",
       "119        94.0                                     [Шумарово]           1\n",
       "\n",
       "[138 rows x 3 columns]"
      ]
     },
     "execution_count": 287,
     "metadata": {},
     "output_type": "execute_result"
    }
   ],
   "source": [
    "rus_cities_by_age"
   ]
  },
  {
   "cell_type": "code",
   "execution_count": 296,
   "metadata": {},
   "outputs": [
    {
     "data": {
      "text/html": [
       "<div>\n",
       "<style scoped>\n",
       "    .dataframe tbody tr th:only-of-type {\n",
       "        vertical-align: middle;\n",
       "    }\n",
       "\n",
       "    .dataframe tbody tr th {\n",
       "        vertical-align: top;\n",
       "    }\n",
       "\n",
       "    .dataframe thead th {\n",
       "        text-align: right;\n",
       "    }\n",
       "</style>\n",
       "<table border=\"1\" class=\"dataframe\">\n",
       "  <thead>\n",
       "    <tr style=\"text-align: right;\">\n",
       "      <th></th>\n",
       "      <th>median_age</th>\n",
       "      <th>city</th>\n",
       "      <th>city_count</th>\n",
       "    </tr>\n",
       "  </thead>\n",
       "  <tbody>\n",
       "    <tr>\n",
       "      <th>0</th>\n",
       "      <td>14.0</td>\n",
       "      <td>[Бергин, Приупский, Большие Кибячи]</td>\n",
       "      <td>11</td>\n",
       "    </tr>\n",
       "    <tr>\n",
       "      <th>1</th>\n",
       "      <td>15.0</td>\n",
       "      <td>[Подболотье, Арда, Добровольск]</td>\n",
       "      <td>41</td>\n",
       "    </tr>\n",
       "    <tr>\n",
       "      <th>2</th>\n",
       "      <td>15.5</td>\n",
       "      <td>[Верх-Чита]</td>\n",
       "      <td>4</td>\n",
       "    </tr>\n",
       "    <tr>\n",
       "      <th>3</th>\n",
       "      <td>16.0</td>\n",
       "      <td>[Аксеново-Зиловское, Дядьковская, Шемышейка]</td>\n",
       "      <td>76</td>\n",
       "    </tr>\n",
       "    <tr>\n",
       "      <th>4</th>\n",
       "      <td>16.5</td>\n",
       "      <td>[Кундравы]</td>\n",
       "      <td>8</td>\n",
       "    </tr>\n",
       "    <tr>\n",
       "      <th>...</th>\n",
       "      <td>...</td>\n",
       "      <td>...</td>\n",
       "      <td>...</td>\n",
       "    </tr>\n",
       "    <tr>\n",
       "      <th>113</th>\n",
       "      <td>79.0</td>\n",
       "      <td>[Зуткулей]</td>\n",
       "      <td>4</td>\n",
       "    </tr>\n",
       "    <tr>\n",
       "      <th>114</th>\n",
       "      <td>80.0</td>\n",
       "      <td>[Семисотка, Могильный Мыс]</td>\n",
       "      <td>3</td>\n",
       "    </tr>\n",
       "    <tr>\n",
       "      <th>115</th>\n",
       "      <td>81.0</td>\n",
       "      <td>[Межегей, Якут]</td>\n",
       "      <td>6</td>\n",
       "    </tr>\n",
       "    <tr>\n",
       "      <th>116</th>\n",
       "      <td>82.0</td>\n",
       "      <td>[Шабельское, Шатмантамак, Клушино]</td>\n",
       "      <td>3</td>\n",
       "    </tr>\n",
       "    <tr>\n",
       "      <th>117</th>\n",
       "      <td>84.0</td>\n",
       "      <td>[Петровский, Мостовик, Хохотуй]</td>\n",
       "      <td>5</td>\n",
       "    </tr>\n",
       "  </tbody>\n",
       "</table>\n",
       "<p>109 rows × 3 columns</p>\n",
       "</div>"
      ],
      "text/plain": [
       "     median_age                                          city  city_count\n",
       "0          14.0           [Бергин, Приупский, Большие Кибячи]          11\n",
       "1          15.0               [Подболотье, Арда, Добровольск]          41\n",
       "2          15.5                                   [Верх-Чита]           4\n",
       "3          16.0  [Аксеново-Зиловское, Дядьковская, Шемышейка]          76\n",
       "4          16.5                                    [Кундравы]           8\n",
       "..          ...                                           ...         ...\n",
       "113        79.0                                    [Зуткулей]           4\n",
       "114        80.0                    [Семисотка, Могильный Мыс]           3\n",
       "115        81.0                               [Межегей, Якут]           6\n",
       "116        82.0            [Шабельское, Шатмантамак, Клушино]           3\n",
       "117        84.0               [Петровский, Мостовик, Хохотуй]           5\n",
       "\n",
       "[109 rows x 3 columns]"
      ]
     },
     "execution_count": 296,
     "metadata": {},
     "output_type": "execute_result"
    }
   ],
   "source": [
    "(rus_cities_by_age[(rus_cities_by_age['city_count']>2)\n",
    "                   &(rus_cities_by_age['median_age']<90)]\n",
    "                   .sort_values('median_age'))"
   ]
  },
  {
   "cell_type": "code",
   "execution_count": 270,
   "metadata": {},
   "outputs": [],
   "source": [
    "rus_cities_by_age.to_csv('data/RUS_CITIES_BY_AGE.cs')"
   ]
  },
  {
   "cell_type": "markdown",
   "metadata": {},
   "source": [
    "### CIS statistics"
   ]
  },
  {
   "cell_type": "code",
   "execution_count": 154,
   "metadata": {
    "collapsed": true,
    "jupyter": {
     "outputs_hidden": true
    }
   },
   "outputs": [
    {
     "name": "stderr",
     "output_type": "stream",
     "text": [
      "<ipython-input-154-8a73cd1ac44d>:2: SettingWithCopyWarning: \n",
      "A value is trying to be set on a copy of a slice from a DataFrame.\n",
      "Try using .loc[row_indexer,col_indexer] = value instead\n",
      "\n",
      "See the caveats in the documentation: https://pandas.pydata.org/pandas-docs/stable/user_guide/indexing.html#returning-a-view-versus-a-copy\n",
      "  cities_grouped_sng['norm'] = (round(cities_grouped_sng['city_count']\n"
     ]
    }
   ],
   "source": [
    "cities_grouped_sng = cities_grouped[cities_grouped['regions']=='СНГ']\n",
    "cities_grouped_sng['norm'] = (round(cities_grouped_sng['city_count']\n",
    "                                    /sum(cities_grouped_sng['city_count']) * 100, 4))"
   ]
  },
  {
   "cell_type": "code",
   "execution_count": 157,
   "metadata": {},
   "outputs": [
    {
     "data": {
      "text/html": [
       "<div>\n",
       "<style scoped>\n",
       "    .dataframe tbody tr th:only-of-type {\n",
       "        vertical-align: middle;\n",
       "    }\n",
       "\n",
       "    .dataframe tbody tr th {\n",
       "        vertical-align: top;\n",
       "    }\n",
       "\n",
       "    .dataframe thead th {\n",
       "        text-align: right;\n",
       "    }\n",
       "</style>\n",
       "<table border=\"1\" class=\"dataframe\">\n",
       "  <thead>\n",
       "    <tr style=\"text-align: right;\">\n",
       "      <th></th>\n",
       "      <th>country</th>\n",
       "      <th>city</th>\n",
       "      <th>median_age</th>\n",
       "      <th>city_count</th>\n",
       "      <th>regions</th>\n",
       "      <th>norm</th>\n",
       "    </tr>\n",
       "  </thead>\n",
       "  <tbody>\n",
       "    <tr>\n",
       "      <th>692</th>\n",
       "      <td>Беларусь</td>\n",
       "      <td>Минск</td>\n",
       "      <td>27.0</td>\n",
       "      <td>41169</td>\n",
       "      <td>СНГ</td>\n",
       "      <td>13.3198</td>\n",
       "    </tr>\n",
       "    <tr>\n",
       "      <th>16702</th>\n",
       "      <td>Украина</td>\n",
       "      <td>Киев</td>\n",
       "      <td>27.0</td>\n",
       "      <td>32834</td>\n",
       "      <td>СНГ</td>\n",
       "      <td>10.6231</td>\n",
       "    </tr>\n",
       "    <tr>\n",
       "      <th>18053</th>\n",
       "      <td>Украина</td>\n",
       "      <td>Харьков</td>\n",
       "      <td>27.0</td>\n",
       "      <td>16993</td>\n",
       "      <td>СНГ</td>\n",
       "      <td>5.4979</td>\n",
       "    </tr>\n",
       "    <tr>\n",
       "      <th>17322</th>\n",
       "      <td>Украина</td>\n",
       "      <td>Одесса</td>\n",
       "      <td>28.0</td>\n",
       "      <td>13787</td>\n",
       "      <td>СНГ</td>\n",
       "      <td>4.4606</td>\n",
       "    </tr>\n",
       "    <tr>\n",
       "      <th>3009</th>\n",
       "      <td>Казахстан</td>\n",
       "      <td>Алматы</td>\n",
       "      <td>28.0</td>\n",
       "      <td>13767</td>\n",
       "      <td>СНГ</td>\n",
       "      <td>4.4542</td>\n",
       "    </tr>\n",
       "    <tr>\n",
       "      <th>16410</th>\n",
       "      <td>Украина</td>\n",
       "      <td>Днепропетровск (Днепр)</td>\n",
       "      <td>28.0</td>\n",
       "      <td>9087</td>\n",
       "      <td>СНГ</td>\n",
       "      <td>2.9400</td>\n",
       "    </tr>\n",
       "    <tr>\n",
       "      <th>16440</th>\n",
       "      <td>Украина</td>\n",
       "      <td>Донецк</td>\n",
       "      <td>28.0</td>\n",
       "      <td>7838</td>\n",
       "      <td>СНГ</td>\n",
       "      <td>2.5359</td>\n",
       "    </tr>\n",
       "  </tbody>\n",
       "</table>\n",
       "</div>"
      ],
      "text/plain": [
       "         country                    city  median_age  city_count regions  \\\n",
       "692     Беларусь                   Минск        27.0       41169     СНГ   \n",
       "16702    Украина                    Киев        27.0       32834     СНГ   \n",
       "18053    Украина                 Харьков        27.0       16993     СНГ   \n",
       "17322    Украина                  Одесса        28.0       13787     СНГ   \n",
       "3009   Казахстан                  Алматы        28.0       13767     СНГ   \n",
       "16410    Украина  Днепропетровск (Днепр)        28.0        9087     СНГ   \n",
       "16440    Украина                  Донецк        28.0        7838     СНГ   \n",
       "\n",
       "          norm  \n",
       "692    13.3198  \n",
       "16702  10.6231  \n",
       "18053   5.4979  \n",
       "17322   4.4606  \n",
       "3009    4.4542  \n",
       "16410   2.9400  \n",
       "16440   2.5359  "
      ]
     },
     "execution_count": 157,
     "metadata": {},
     "output_type": "execute_result"
    }
   ],
   "source": [
    "cities_grouped_sng.head(7)"
   ]
  },
  {
   "cell_type": "markdown",
   "metadata": {},
   "source": [
    "### Other countries statistics"
   ]
  },
  {
   "cell_type": "code",
   "execution_count": 158,
   "metadata": {
    "collapsed": true,
    "jupyter": {
     "outputs_hidden": true
    }
   },
   "outputs": [
    {
     "name": "stderr",
     "output_type": "stream",
     "text": [
      "<ipython-input-158-b63c0574bd26>:2: SettingWithCopyWarning: \n",
      "A value is trying to be set on a copy of a slice from a DataFrame.\n",
      "Try using .loc[row_indexer,col_indexer] = value instead\n",
      "\n",
      "See the caveats in the documentation: https://pandas.pydata.org/pandas-docs/stable/user_guide/indexing.html#returning-a-view-versus-a-copy\n",
      "  cities_grouped_other['norm'] = (round(cities_grouped_other['city_count']\n"
     ]
    }
   ],
   "source": [
    "cities_grouped_other = cities_grouped[cities_grouped['regions']=='Другие страны']\n",
    "cities_grouped_other['norm'] = (round(cities_grouped_other['city_count']\n",
    "                                    /sum(cities_grouped_other['city_count']) * 100, 4))"
   ]
  },
  {
   "cell_type": "code",
   "execution_count": 159,
   "metadata": {},
   "outputs": [
    {
     "data": {
      "text/html": [
       "<div>\n",
       "<style scoped>\n",
       "    .dataframe tbody tr th:only-of-type {\n",
       "        vertical-align: middle;\n",
       "    }\n",
       "\n",
       "    .dataframe tbody tr th {\n",
       "        vertical-align: top;\n",
       "    }\n",
       "\n",
       "    .dataframe thead th {\n",
       "        text-align: right;\n",
       "    }\n",
       "</style>\n",
       "<table border=\"1\" class=\"dataframe\">\n",
       "  <thead>\n",
       "    <tr style=\"text-align: right;\">\n",
       "      <th></th>\n",
       "      <th>country</th>\n",
       "      <th>city</th>\n",
       "      <th>median_age</th>\n",
       "      <th>city_count</th>\n",
       "      <th>regions</th>\n",
       "      <th>norm</th>\n",
       "    </tr>\n",
       "  </thead>\n",
       "  <tbody>\n",
       "    <tr>\n",
       "      <th>15134</th>\n",
       "      <td>США</td>\n",
       "      <td>New York City</td>\n",
       "      <td>27.0</td>\n",
       "      <td>3380</td>\n",
       "      <td>Другие страны</td>\n",
       "      <td>4.7763</td>\n",
       "    </tr>\n",
       "    <tr>\n",
       "      <th>15010</th>\n",
       "      <td>США</td>\n",
       "      <td>Los Angeles</td>\n",
       "      <td>27.0</td>\n",
       "      <td>2940</td>\n",
       "      <td>Другие страны</td>\n",
       "      <td>4.1545</td>\n",
       "    </tr>\n",
       "    <tr>\n",
       "      <th>18618</th>\n",
       "      <td>Чехия</td>\n",
       "      <td>Praha</td>\n",
       "      <td>27.0</td>\n",
       "      <td>1942</td>\n",
       "      <td>Другие страны</td>\n",
       "      <td>2.7443</td>\n",
       "    </tr>\n",
       "    <tr>\n",
       "      <th>18820</th>\n",
       "      <td>Эстония</td>\n",
       "      <td>Tallinn (Таллин)</td>\n",
       "      <td>27.0</td>\n",
       "      <td>1861</td>\n",
       "      <td>Другие страны</td>\n",
       "      <td>2.6298</td>\n",
       "    </tr>\n",
       "    <tr>\n",
       "      <th>1348</th>\n",
       "      <td>Великобритания</td>\n",
       "      <td>London</td>\n",
       "      <td>28.0</td>\n",
       "      <td>1651</td>\n",
       "      <td>Другие страны</td>\n",
       "      <td>2.3330</td>\n",
       "    </tr>\n",
       "    <tr>\n",
       "      <th>1581</th>\n",
       "      <td>Германия</td>\n",
       "      <td>Berlin</td>\n",
       "      <td>28.0</td>\n",
       "      <td>1545</td>\n",
       "      <td>Другие страны</td>\n",
       "      <td>2.1833</td>\n",
       "    </tr>\n",
       "    <tr>\n",
       "      <th>3685</th>\n",
       "      <td>Латвия</td>\n",
       "      <td>Rīga</td>\n",
       "      <td>27.0</td>\n",
       "      <td>1545</td>\n",
       "      <td>Другие страны</td>\n",
       "      <td>2.1833</td>\n",
       "    </tr>\n",
       "  </tbody>\n",
       "</table>\n",
       "</div>"
      ],
      "text/plain": [
       "              country              city  median_age  city_count  \\\n",
       "15134             США     New York City        27.0        3380   \n",
       "15010             США       Los Angeles        27.0        2940   \n",
       "18618           Чехия             Praha        27.0        1942   \n",
       "18820         Эстония  Tallinn (Таллин)        27.0        1861   \n",
       "1348   Великобритания            London        28.0        1651   \n",
       "1581         Германия            Berlin        28.0        1545   \n",
       "3685           Латвия              Rīga        27.0        1545   \n",
       "\n",
       "             regions    norm  \n",
       "15134  Другие страны  4.7763  \n",
       "15010  Другие страны  4.1545  \n",
       "18618  Другие страны  2.7443  \n",
       "18820  Другие страны  2.6298  \n",
       "1348   Другие страны  2.3330  \n",
       "1581   Другие страны  2.1833  \n",
       "3685   Другие страны  2.1833  "
      ]
     },
     "execution_count": 159,
     "metadata": {},
     "output_type": "execute_result"
    }
   ],
   "source": [
    "cities_grouped_other.head(7)"
   ]
  },
  {
   "cell_type": "markdown",
   "metadata": {},
   "source": [
    "## Append tables"
   ]
  },
  {
   "cell_type": "code",
   "execution_count": 193,
   "metadata": {},
   "outputs": [],
   "source": [
    "all_cities = cities_grouped_rus.append([cities_grouped_sng, cities_grouped_other], ignore_index=True)"
   ]
  },
  {
   "cell_type": "code",
   "execution_count": 194,
   "metadata": {},
   "outputs": [
    {
     "data": {
      "text/html": [
       "<div>\n",
       "<style scoped>\n",
       "    .dataframe tbody tr th:only-of-type {\n",
       "        vertical-align: middle;\n",
       "    }\n",
       "\n",
       "    .dataframe tbody tr th {\n",
       "        vertical-align: top;\n",
       "    }\n",
       "\n",
       "    .dataframe thead th {\n",
       "        text-align: right;\n",
       "    }\n",
       "</style>\n",
       "<table border=\"1\" class=\"dataframe\">\n",
       "  <thead>\n",
       "    <tr style=\"text-align: right;\">\n",
       "      <th></th>\n",
       "      <th>country</th>\n",
       "      <th>city</th>\n",
       "      <th>median_age</th>\n",
       "      <th>city_count</th>\n",
       "      <th>regions</th>\n",
       "      <th>norm</th>\n",
       "    </tr>\n",
       "  </thead>\n",
       "  <tbody>\n",
       "    <tr>\n",
       "      <th>0</th>\n",
       "      <td>Россия</td>\n",
       "      <td>Москва</td>\n",
       "      <td>28.0</td>\n",
       "      <td>256574</td>\n",
       "      <td>Россия</td>\n",
       "      <td>17.1476</td>\n",
       "    </tr>\n",
       "    <tr>\n",
       "      <th>1</th>\n",
       "      <td>Россия</td>\n",
       "      <td>Санкт-Петербург</td>\n",
       "      <td>29.0</td>\n",
       "      <td>161151</td>\n",
       "      <td>Россия</td>\n",
       "      <td>10.7702</td>\n",
       "    </tr>\n",
       "    <tr>\n",
       "      <th>2</th>\n",
       "      <td>Россия</td>\n",
       "      <td>Екатеринбург</td>\n",
       "      <td>28.0</td>\n",
       "      <td>35367</td>\n",
       "      <td>Россия</td>\n",
       "      <td>2.3637</td>\n",
       "    </tr>\n",
       "    <tr>\n",
       "      <th>3</th>\n",
       "      <td>Россия</td>\n",
       "      <td>Казань</td>\n",
       "      <td>28.0</td>\n",
       "      <td>33068</td>\n",
       "      <td>Россия</td>\n",
       "      <td>2.2100</td>\n",
       "    </tr>\n",
       "    <tr>\n",
       "      <th>4</th>\n",
       "      <td>Россия</td>\n",
       "      <td>Новосибирск</td>\n",
       "      <td>28.0</td>\n",
       "      <td>32296</td>\n",
       "      <td>Россия</td>\n",
       "      <td>2.1584</td>\n",
       "    </tr>\n",
       "    <tr>\n",
       "      <th>...</th>\n",
       "      <td>...</td>\n",
       "      <td>...</td>\n",
       "      <td>...</td>\n",
       "      <td>...</td>\n",
       "      <td>...</td>\n",
       "      <td>...</td>\n",
       "    </tr>\n",
       "    <tr>\n",
       "      <th>18183</th>\n",
       "      <td>Германия</td>\n",
       "      <td>Nordhorn</td>\n",
       "      <td>26.0</td>\n",
       "      <td>1</td>\n",
       "      <td>Другие страны</td>\n",
       "      <td>0.0014</td>\n",
       "    </tr>\n",
       "    <tr>\n",
       "      <th>18184</th>\n",
       "      <td>Германия</td>\n",
       "      <td>Nordwalde</td>\n",
       "      <td>27.0</td>\n",
       "      <td>1</td>\n",
       "      <td>Другие страны</td>\n",
       "      <td>0.0014</td>\n",
       "    </tr>\n",
       "    <tr>\n",
       "      <th>18185</th>\n",
       "      <td>Германия</td>\n",
       "      <td>Norwegen</td>\n",
       "      <td>NaN</td>\n",
       "      <td>1</td>\n",
       "      <td>Другие страны</td>\n",
       "      <td>0.0014</td>\n",
       "    </tr>\n",
       "    <tr>\n",
       "      <th>18186</th>\n",
       "      <td>Германия</td>\n",
       "      <td>Nürnberger Hof</td>\n",
       "      <td>23.0</td>\n",
       "      <td>1</td>\n",
       "      <td>Другие страны</td>\n",
       "      <td>0.0014</td>\n",
       "    </tr>\n",
       "    <tr>\n",
       "      <th>18187</th>\n",
       "      <td>Германия</td>\n",
       "      <td>Ober-Wöllstadt</td>\n",
       "      <td>36.0</td>\n",
       "      <td>1</td>\n",
       "      <td>Другие страны</td>\n",
       "      <td>0.0014</td>\n",
       "    </tr>\n",
       "  </tbody>\n",
       "</table>\n",
       "<p>18188 rows × 6 columns</p>\n",
       "</div>"
      ],
      "text/plain": [
       "        country             city  median_age  city_count        regions  \\\n",
       "0        Россия           Москва        28.0      256574         Россия   \n",
       "1        Россия  Санкт-Петербург        29.0      161151         Россия   \n",
       "2        Россия     Екатеринбург        28.0       35367         Россия   \n",
       "3        Россия           Казань        28.0       33068         Россия   \n",
       "4        Россия      Новосибирск        28.0       32296         Россия   \n",
       "...         ...              ...         ...         ...            ...   \n",
       "18183  Германия         Nordhorn        26.0           1  Другие страны   \n",
       "18184  Германия        Nordwalde        27.0           1  Другие страны   \n",
       "18185  Германия         Norwegen         NaN           1  Другие страны   \n",
       "18186  Германия   Nürnberger Hof        23.0           1  Другие страны   \n",
       "18187  Германия   Ober-Wöllstadt        36.0           1  Другие страны   \n",
       "\n",
       "          norm  \n",
       "0      17.1476  \n",
       "1      10.7702  \n",
       "2       2.3637  \n",
       "3       2.2100  \n",
       "4       2.1584  \n",
       "...        ...  \n",
       "18183   0.0014  \n",
       "18184   0.0014  \n",
       "18185   0.0014  \n",
       "18186   0.0014  \n",
       "18187   0.0014  \n",
       "\n",
       "[18188 rows x 6 columns]"
      ]
     },
     "execution_count": 194,
     "metadata": {},
     "output_type": "execute_result"
    }
   ],
   "source": [
    "all_cities"
   ]
  },
  {
   "cell_type": "code",
   "execution_count": 164,
   "metadata": {},
   "outputs": [],
   "source": [
    "all_cities.to_csv('data/CITIES.csv')"
   ]
  },
  {
   "cell_type": "markdown",
   "metadata": {},
   "source": [
    "## All countries istribution"
   ]
  },
  {
   "cell_type": "code",
   "execution_count": 219,
   "metadata": {},
   "outputs": [],
   "source": [
    "country_dist = all_cities.groupby(['country','regions']).agg({'city_count':'sum'}).reset_index()"
   ]
  },
  {
   "cell_type": "code",
   "execution_count": 220,
   "metadata": {},
   "outputs": [],
   "source": [
    "country_dist['norm_all_countries'] = (round(country_dist['city_count']\n",
    "                                    /sum(country_dist['city_count']) * 100, 4))"
   ]
  },
  {
   "cell_type": "code",
   "execution_count": 221,
   "metadata": {},
   "outputs": [],
   "source": [
    "country_dist = country_dist.sort_values('norm_all_countries', ascending = False).reset_index().drop('index',1)"
   ]
  },
  {
   "cell_type": "code",
   "execution_count": 222,
   "metadata": {},
   "outputs": [
    {
     "data": {
      "text/html": [
       "<div>\n",
       "<style scoped>\n",
       "    .dataframe tbody tr th:only-of-type {\n",
       "        vertical-align: middle;\n",
       "    }\n",
       "\n",
       "    .dataframe tbody tr th {\n",
       "        vertical-align: top;\n",
       "    }\n",
       "\n",
       "    .dataframe thead th {\n",
       "        text-align: right;\n",
       "    }\n",
       "</style>\n",
       "<table border=\"1\" class=\"dataframe\">\n",
       "  <thead>\n",
       "    <tr style=\"text-align: right;\">\n",
       "      <th></th>\n",
       "      <th>country</th>\n",
       "      <th>regions</th>\n",
       "      <th>city_count</th>\n",
       "      <th>norm_all_countries</th>\n",
       "    </tr>\n",
       "  </thead>\n",
       "  <tbody>\n",
       "    <tr>\n",
       "      <th>0</th>\n",
       "      <td>Россия</td>\n",
       "      <td>Россия</td>\n",
       "      <td>1496268</td>\n",
       "      <td>79.7535</td>\n",
       "    </tr>\n",
       "    <tr>\n",
       "      <th>1</th>\n",
       "      <td>Украина</td>\n",
       "      <td>СНГ</td>\n",
       "      <td>161720</td>\n",
       "      <td>8.6199</td>\n",
       "    </tr>\n",
       "    <tr>\n",
       "      <th>2</th>\n",
       "      <td>Беларусь</td>\n",
       "      <td>СНГ</td>\n",
       "      <td>92052</td>\n",
       "      <td>4.9065</td>\n",
       "    </tr>\n",
       "    <tr>\n",
       "      <th>3</th>\n",
       "      <td>Казахстан</td>\n",
       "      <td>СНГ</td>\n",
       "      <td>41972</td>\n",
       "      <td>2.2372</td>\n",
       "    </tr>\n",
       "    <tr>\n",
       "      <th>4</th>\n",
       "      <td>США</td>\n",
       "      <td>Другие страны</td>\n",
       "      <td>14419</td>\n",
       "      <td>0.7686</td>\n",
       "    </tr>\n",
       "    <tr>\n",
       "      <th>...</th>\n",
       "      <td>...</td>\n",
       "      <td>...</td>\n",
       "      <td>...</td>\n",
       "      <td>...</td>\n",
       "    </tr>\n",
       "    <tr>\n",
       "      <th>226</th>\n",
       "      <td>Малави</td>\n",
       "      <td>Другие страны</td>\n",
       "      <td>4</td>\n",
       "      <td>0.0002</td>\n",
       "    </tr>\n",
       "    <tr>\n",
       "      <th>227</th>\n",
       "      <td>Коморы</td>\n",
       "      <td>Другие страны</td>\n",
       "      <td>4</td>\n",
       "      <td>0.0002</td>\n",
       "    </tr>\n",
       "    <tr>\n",
       "      <th>228</th>\n",
       "      <td>Монтсеррат</td>\n",
       "      <td>Другие страны</td>\n",
       "      <td>1</td>\n",
       "      <td>0.0001</td>\n",
       "    </tr>\n",
       "    <tr>\n",
       "      <th>229</th>\n",
       "      <td>Лесото</td>\n",
       "      <td>Другие страны</td>\n",
       "      <td>1</td>\n",
       "      <td>0.0001</td>\n",
       "    </tr>\n",
       "    <tr>\n",
       "      <th>230</th>\n",
       "      <td>Руанда</td>\n",
       "      <td>Другие страны</td>\n",
       "      <td>2</td>\n",
       "      <td>0.0001</td>\n",
       "    </tr>\n",
       "  </tbody>\n",
       "</table>\n",
       "<p>231 rows × 4 columns</p>\n",
       "</div>"
      ],
      "text/plain": [
       "        country        regions  city_count  norm_all_countries\n",
       "0        Россия         Россия     1496268             79.7535\n",
       "1       Украина            СНГ      161720              8.6199\n",
       "2      Беларусь            СНГ       92052              4.9065\n",
       "3     Казахстан            СНГ       41972              2.2372\n",
       "4           США  Другие страны       14419              0.7686\n",
       "..          ...            ...         ...                 ...\n",
       "226      Малави  Другие страны           4              0.0002\n",
       "227      Коморы  Другие страны           4              0.0002\n",
       "228  Монтсеррат  Другие страны           1              0.0001\n",
       "229      Лесото  Другие страны           1              0.0001\n",
       "230      Руанда  Другие страны           2              0.0001\n",
       "\n",
       "[231 rows x 4 columns]"
      ]
     },
     "execution_count": 222,
     "metadata": {},
     "output_type": "execute_result"
    }
   ],
   "source": [
    "country_dist"
   ]
  },
  {
   "cell_type": "code",
   "execution_count": 223,
   "metadata": {},
   "outputs": [],
   "source": [
    "country_dist.to_csv('data/COUNTRIES_DISTRIBUTION.csv')"
   ]
  },
  {
   "cell_type": "markdown",
   "metadata": {},
   "source": [
    "## Age distribution"
   ]
  },
  {
   "cell_type": "code",
   "execution_count": 715,
   "metadata": {},
   "outputs": [
    {
     "name": "stdout",
     "output_type": "stream",
     "text": [
      "Sample with age data: 1641092\n"
     ]
    }
   ],
   "source": [
    "print('Sample with age data:', len(df.age.dropna()))"
   ]
  },
  {
   "cell_type": "code",
   "execution_count": 719,
   "metadata": {},
   "outputs": [
    {
     "name": "stdout",
     "output_type": "stream",
     "text": [
      "MEN\n",
      "Median: 31.0\n",
      "Max: 48.0\n",
      "Min: 14.0\n",
      "Largest age groups:\n",
      "     index      0  norm\n",
      "19     27  30296  7.09\n",
      "4      26  29859  6.99\n",
      "9      28  28779  6.73\n",
      "11     29  28609  6.69\n",
      "10     25  27988  6.55\n"
     ]
    }
   ],
   "source": [
    "print('MEN')\n",
    "df_age_men = df[(df.age < df.age.quantile(.95)) & (df.sex == 'male')]['age']\n",
    "co_men = Counter(df_age_men)\n",
    "df_co_men = pd.DataFrame.from_dict(co_men, orient='index').reset_index().sort_values(by='index')\n",
    "\n",
    "df_co_men['norm'] = round(df_co_men[0] / sum(df_co_men[0]) * 100, 2)\n",
    "print('Median:',df_co_men.median()['index'])\n",
    "print('Max:', df_co_men.max()['index'])\n",
    "print('Min:', df_co_men.min()['index'])\n",
    "print('Largest age groups:\\n', df_co_men.nlargest(5, columns = 0))"
   ]
  },
  {
   "cell_type": "code",
   "execution_count": 720,
   "metadata": {},
   "outputs": [
    {
     "name": "stdout",
     "output_type": "stream",
     "text": [
      "WOMEN\n",
      "Median: 31.0\n",
      "Max: 48.0\n",
      "Min: 14.0\n",
      "Largest age groups:\n",
      "     index      0  norm\n",
      "15     27  90783  8.03\n",
      "27     26  90031  7.96\n",
      "18     25  84451  7.47\n",
      "8      28  83467  7.38\n",
      "17     29  78716  6.96\n"
     ]
    }
   ],
   "source": [
    "print('WOMEN')\n",
    "df_age_women = df[(df.age < df.age.quantile(.95)) & (df.sex == 'female')]['age']\n",
    "co_women = Counter(df_age_women)\n",
    "df_co_women = pd.DataFrame.from_dict(co_women, orient='index').reset_index().sort_values(by='index')\n",
    "\n",
    "df_co_women['norm'] = round(df_co_women[0] / sum(df_co_women[0]) * 100, 2)\n",
    "print('Median:', df_co_women.median()['index'])\n",
    "print('Max:', df_co_women.max()['index'])\n",
    "print('Min:', df_co_women.min()['index'])\n",
    "print('Largest age groups:\\n', df_co_women.nlargest(5, columns = 0))"
   ]
  },
  {
   "cell_type": "code",
   "execution_count": 639,
   "metadata": {},
   "outputs": [],
   "source": [
    "df_co_women['sex'] = 'female'\n",
    "df_co_men['sex'] = 'male'\n",
    "\n",
    "result = pd.concat([df_co_women, df_co_men])\n",
    "result = result.rename(columns={'index':'age', 0:'count', 'norm':'%'})"
   ]
  },
  {
   "cell_type": "code",
   "execution_count": 703,
   "metadata": {},
   "outputs": [
    {
     "data": {
      "text/html": [
       "<div>\n",
       "<style scoped>\n",
       "    .dataframe tbody tr th:only-of-type {\n",
       "        vertical-align: middle;\n",
       "    }\n",
       "\n",
       "    .dataframe tbody tr th {\n",
       "        vertical-align: top;\n",
       "    }\n",
       "\n",
       "    .dataframe thead th {\n",
       "        text-align: right;\n",
       "    }\n",
       "</style>\n",
       "<table border=\"1\" class=\"dataframe\">\n",
       "  <thead>\n",
       "    <tr style=\"text-align: right;\">\n",
       "      <th></th>\n",
       "      <th>age</th>\n",
       "      <th>count</th>\n",
       "      <th>%</th>\n",
       "      <th>sex</th>\n",
       "    </tr>\n",
       "  </thead>\n",
       "  <tbody>\n",
       "    <tr>\n",
       "      <th>19</th>\n",
       "      <td>14</td>\n",
       "      <td>1408</td>\n",
       "      <td>0.12</td>\n",
       "      <td>female</td>\n",
       "    </tr>\n",
       "    <tr>\n",
       "      <th>13</th>\n",
       "      <td>15</td>\n",
       "      <td>8239</td>\n",
       "      <td>0.73</td>\n",
       "      <td>female</td>\n",
       "    </tr>\n",
       "  </tbody>\n",
       "</table>\n",
       "</div>"
      ],
      "text/plain": [
       "    age  count     %     sex\n",
       "19   14   1408  0.12  female\n",
       "13   15   8239  0.73  female"
      ]
     },
     "execution_count": 703,
     "metadata": {},
     "output_type": "execute_result"
    }
   ],
   "source": [
    "result.head(2)"
   ]
  },
  {
   "cell_type": "code",
   "execution_count": 702,
   "metadata": {},
   "outputs": [
    {
     "data": {
      "image/png": "[encoded data removed]",
      "text/plain": [
       "<Figure size 1575.53x432 with 2 Axes>"
      ]
     },
     "metadata": {
      "image/png": {
       "height": 405,
       "width": 1549
      }
     },
     "output_type": "display_data"
    }
   ],
   "source": [
    "g = sns.catplot(ax=ax, x='age', y='%',\n",
    "                hue='sex', col='sex',\n",
    "                data=result, kind='bar',\n",
    "                height=6, aspect=31/17,\n",
    "                dodge=False);\n",
    "\n",
    "(g.set_axis_labels('Age', 'Percentage (%)')\n",
    " .set(ylim=(0, 9))\n",
    " .despine(left=True));"
   ]
  },
  {
   "cell_type": "code",
   "execution_count": 704,
   "metadata": {},
   "outputs": [],
   "source": [
    "g.savefig('pics/age_dist_catplot.svg')"
   ]
  }
 ],
 "metadata": {
  "kernelspec": {
   "display_name": "Python 3",
   "language": "python",
   "name": "python3"
  },
  "language_info": {
   "codemirror_mode": {
    "name": "ipython",
    "version": 3
   },
   "file_extension": ".py",
   "mimetype": "text/x-python",
   "name": "python",
   "nbconvert_exporter": "python",
   "pygments_lexer": "ipython3",
   "version": "3.8.2"
  }
 },
 "nbformat": 4,
 "nbformat_minor": 4
}

{
 "cells": [
  {
   "cell_type": "markdown",
   "metadata": {},
   "source": [
    "## Make network of all Podslushano groups"
   ]
  },
  {
   "cell_type": "code",
   "execution_count": 1,
   "metadata": {},
   "outputs": [],
   "source": [
    "from tqdm import tqdm\n",
    "import pickle\n",
    "import requests\n",
    "import json\n",
    "import time\n",
    "import logging\n",
    "from itertools import chain\n",
    "from collections import Counter\n",
    "import csv\n",
    "import pandas as pd\n",
    "import matplotlib.pyplot as plt\n",
    "import networkx as nx\n",
    "import numpy as np"
   ]
  },
  {
   "cell_type": "code",
   "execution_count": 30,
   "metadata": {},
   "outputs": [],
   "source": [
    "import sys\n",
    "import warnings\n",
    "\n",
    "if not sys.warnoptions:\n",
    "    warnings.simplefilter(\"ignore\")"
   ]
  },
  {
   "cell_type": "code",
   "execution_count": 2,
   "metadata": {},
   "outputs": [],
   "source": [
    "def chunks(lst, n):\n",
    "    \"\"\"Yield successive n-sized chunks from lst.\"\"\"\n",
    "    for i in range(0, len(lst), n):\n",
    "        yield lst[i:i + n]"
   ]
  },
  {
   "cell_type": "code",
   "execution_count": 3,
   "metadata": {},
   "outputs": [],
   "source": [
    "#read the file with group name, activity type and number of participants\n",
    "with open('source/podsl_names.txt', 'r') as f:\n",
    "    #read the text in; results in a list of strings\n",
    "    podsl_names = [r.strip() for r in f.readlines() if r.strip()]"
   ]
  },
  {
   "cell_type": "code",
   "execution_count": 4,
   "metadata": {},
   "outputs": [],
   "source": [
    "#make lists by three elements – attributes of one group\n",
    "podsl_names = list(chunks(podsl_names, 3))"
   ]
  },
  {
   "cell_type": "code",
   "execution_count": 5,
   "metadata": {},
   "outputs": [],
   "source": [
    "#make DataFrame and name columns\n",
    "df = pd.DataFrame(podsl_names,columns=['name','activity','users'])"
   ]
  },
  {
   "cell_type": "code",
   "execution_count": 6,
   "metadata": {},
   "outputs": [
    {
     "name": "stdout",
     "output_type": "stream",
     "text": [
      "Количество групп: 998\n"
     ]
    }
   ],
   "source": [
    "print('Количество групп:',df.shape[0])"
   ]
  },
  {
   "cell_type": "code",
   "execution_count": 7,
   "metadata": {},
   "outputs": [],
   "source": [
    "#convert string with num of participants unto integer type\n",
    "df['users_new'] = df['users'].str.replace(r'\\D', '').astype(int)"
   ]
  },
  {
   "cell_type": "code",
   "execution_count": 8,
   "metadata": {},
   "outputs": [
    {
     "data": {
      "text/html": [
       "<div>\n",
       "<style scoped>\n",
       "    .dataframe tbody tr th:only-of-type {\n",
       "        vertical-align: middle;\n",
       "    }\n",
       "\n",
       "    .dataframe tbody tr th {\n",
       "        vertical-align: top;\n",
       "    }\n",
       "\n",
       "    .dataframe thead th {\n",
       "        text-align: right;\n",
       "    }\n",
       "</style>\n",
       "<table border=\"1\" class=\"dataframe\">\n",
       "  <thead>\n",
       "    <tr style=\"text-align: right;\">\n",
       "      <th></th>\n",
       "      <th>name</th>\n",
       "      <th>activity</th>\n",
       "      <th>users</th>\n",
       "      <th>users_new</th>\n",
       "    </tr>\n",
       "  </thead>\n",
       "  <tbody>\n",
       "    <tr>\n",
       "      <th>0</th>\n",
       "      <td>Подслушано – Здесь говорят о тебе</td>\n",
       "      <td>Общество</td>\n",
       "      <td>4 015 622 подписчика</td>\n",
       "      <td>4015622</td>\n",
       "    </tr>\n",
       "    <tr>\n",
       "      <th>1</th>\n",
       "      <td>ПОДСЛУШАНО ПЕРМЬ</td>\n",
       "      <td>Городское сообщество</td>\n",
       "      <td>453 759 подписчиков</td>\n",
       "      <td>453759</td>\n",
       "    </tr>\n",
       "    <tr>\n",
       "      <th>2</th>\n",
       "      <td>Подслушано Иваново</td>\n",
       "      <td>Городское сообщество</td>\n",
       "      <td>25 670 подписчиков</td>\n",
       "      <td>25670</td>\n",
       "    </tr>\n",
       "  </tbody>\n",
       "</table>\n",
       "</div>"
      ],
      "text/plain": [
       "                                name              activity  \\\n",
       "0  Подслушано – Здесь говорят о тебе              Общество   \n",
       "1                   ПОДСЛУШАНО ПЕРМЬ  Городское сообщество   \n",
       "2                 Подслушано Иваново  Городское сообщество   \n",
       "\n",
       "                  users  users_new  \n",
       "0  4 015 622 подписчика    4015622  \n",
       "1   453 759 подписчиков     453759  \n",
       "2    25 670 подписчиков      25670  "
      ]
     },
     "execution_count": 8,
     "metadata": {},
     "output_type": "execute_result"
    }
   ],
   "source": [
    "df.head(3)"
   ]
  },
  {
   "cell_type": "code",
   "execution_count": 9,
   "metadata": {},
   "outputs": [
    {
     "data": {
      "text/html": [
       "<div>\n",
       "<style scoped>\n",
       "    .dataframe tbody tr th:only-of-type {\n",
       "        vertical-align: middle;\n",
       "    }\n",
       "\n",
       "    .dataframe tbody tr th {\n",
       "        vertical-align: top;\n",
       "    }\n",
       "\n",
       "    .dataframe thead th {\n",
       "        text-align: right;\n",
       "    }\n",
       "</style>\n",
       "<table border=\"1\" class=\"dataframe\">\n",
       "  <thead>\n",
       "    <tr style=\"text-align: right;\">\n",
       "      <th></th>\n",
       "      <th>name</th>\n",
       "      <th>activity</th>\n",
       "      <th>users</th>\n",
       "      <th>users_new</th>\n",
       "    </tr>\n",
       "  </thead>\n",
       "  <tbody>\n",
       "    <tr>\n",
       "      <th>0</th>\n",
       "      <td>Подслушано – Здесь говорят о тебе</td>\n",
       "      <td>Общество</td>\n",
       "      <td>4 015 622 подписчика</td>\n",
       "      <td>4015622</td>\n",
       "    </tr>\n",
       "    <tr>\n",
       "      <th>1</th>\n",
       "      <td>Подслушано | Пошлое 18+ 16+</td>\n",
       "      <td>Эротика</td>\n",
       "      <td>734 173 подписчика</td>\n",
       "      <td>734173</td>\n",
       "    </tr>\n",
       "    <tr>\n",
       "      <th>2</th>\n",
       "      <td>Подслушано Метро Москвы</td>\n",
       "      <td>Городское сообщество</td>\n",
       "      <td>633 333 подписчика</td>\n",
       "      <td>633333</td>\n",
       "    </tr>\n",
       "  </tbody>\n",
       "</table>\n",
       "</div>"
      ],
      "text/plain": [
       "                                name              activity  \\\n",
       "0  Подслушано – Здесь говорят о тебе              Общество   \n",
       "1        Подслушано | Пошлое 18+ 16+               Эротика   \n",
       "2            Подслушано Метро Москвы  Городское сообщество   \n",
       "\n",
       "                  users  users_new  \n",
       "0  4 015 622 подписчика    4015622  \n",
       "1    734 173 подписчика     734173  \n",
       "2    633 333 подписчика     633333  "
      ]
     },
     "execution_count": 9,
     "metadata": {},
     "output_type": "execute_result"
    }
   ],
   "source": [
    "#sort values in users_new column\n",
    "df = df.sort_values(by=['users_new'],ascending=False).reset_index(drop=True)\n",
    "df.head(3)"
   ]
  },
  {
   "cell_type": "code",
   "execution_count": 10,
   "metadata": {},
   "outputs": [],
   "source": [
    "def remove_dupl(groups_desc_df):\n",
    "    '''\n",
    "    takes in table with groups, renames \n",
    "    duplicated groups names and returns a new table\n",
    "    '''\n",
    "    duplicated = groups_desc_df[groups_desc_df.duplicated(['name'])]\n",
    "    print('Количество одинаковых названий групп:',len(duplicated))\n",
    "    \n",
    "    #set names as index\n",
    "    df = groups_desc_df.set_index('name')\n",
    "    #find duplicated names and remove of duplicated index to unique (group, group1, group2...)\n",
    "    df.index = df.index + df.groupby(level=0).cumcount().astype(str).replace('0','')\n",
    "\n",
    "    return df"
   ]
  },
  {
   "cell_type": "code",
   "execution_count": 11,
   "metadata": {},
   "outputs": [
    {
     "name": "stdout",
     "output_type": "stream",
     "text": [
      "Количество одинаковых названий групп: 52\n"
     ]
    }
   ],
   "source": [
    "df = remove_dupl(df)"
   ]
  },
  {
   "cell_type": "code",
   "execution_count": 13,
   "metadata": {},
   "outputs": [],
   "source": [
    "#reset index and name column with groups names\n",
    "df = df.reset_index().rename(columns={'index':'name'})"
   ]
  },
  {
   "cell_type": "code",
   "execution_count": 14,
   "metadata": {},
   "outputs": [
    {
     "data": {
      "text/html": [
       "<div>\n",
       "<style scoped>\n",
       "    .dataframe tbody tr th:only-of-type {\n",
       "        vertical-align: middle;\n",
       "    }\n",
       "\n",
       "    .dataframe tbody tr th {\n",
       "        vertical-align: top;\n",
       "    }\n",
       "\n",
       "    .dataframe thead th {\n",
       "        text-align: right;\n",
       "    }\n",
       "</style>\n",
       "<table border=\"1\" class=\"dataframe\">\n",
       "  <thead>\n",
       "    <tr style=\"text-align: right;\">\n",
       "      <th></th>\n",
       "      <th>name</th>\n",
       "      <th>activity</th>\n",
       "      <th>users</th>\n",
       "      <th>users_new</th>\n",
       "    </tr>\n",
       "  </thead>\n",
       "  <tbody>\n",
       "    <tr>\n",
       "      <th>57</th>\n",
       "      <td>Подслушано в Рыбинске</td>\n",
       "      <td>Интернет-СМИ</td>\n",
       "      <td>148 409 подписчиков</td>\n",
       "      <td>148409</td>\n",
       "    </tr>\n",
       "    <tr>\n",
       "      <th>103</th>\n",
       "      <td>Подслушано в Рыбинске1</td>\n",
       "      <td>Городское сообщество</td>\n",
       "      <td>103 323 подписчика</td>\n",
       "      <td>103323</td>\n",
       "    </tr>\n",
       "    <tr>\n",
       "      <th>350</th>\n",
       "      <td>Подслушано в Рыбинске2</td>\n",
       "      <td>Городское сообщество</td>\n",
       "      <td>45 167 подписчиков</td>\n",
       "      <td>45167</td>\n",
       "    </tr>\n",
       "  </tbody>\n",
       "</table>\n",
       "</div>"
      ],
      "text/plain": [
       "                       name              activity                users  \\\n",
       "57    Подслушано в Рыбинске          Интернет-СМИ  148 409 подписчиков   \n",
       "103  Подслушано в Рыбинске1  Городское сообщество   103 323 подписчика   \n",
       "350  Подслушано в Рыбинске2  Городское сообщество   45 167 подписчиков   \n",
       "\n",
       "     users_new  \n",
       "57      148409  \n",
       "103     103323  \n",
       "350      45167  "
      ]
     },
     "execution_count": 14,
     "metadata": {},
     "output_type": "execute_result"
    }
   ],
   "source": [
    "#check how duplicated names have been renamed\n",
    "df[df.name.str.match('Подслушано в Рыбинске')]"
   ]
  },
  {
   "cell_type": "code",
   "execution_count": null,
   "metadata": {},
   "outputs": [],
   "source": [
    "#this's a tabel with nodes and their attributes\n",
    "#df"
   ]
  },
  {
   "cell_type": "markdown",
   "metadata": {},
   "source": [
    "## Make pairs by groups activity"
   ]
  },
  {
   "cell_type": "code",
   "execution_count": 15,
   "metadata": {},
   "outputs": [],
   "source": [
    "df_g = df.groupby('activity')['name'].apply(list).reset_index(name='groups')"
   ]
  },
  {
   "cell_type": "code",
   "execution_count": 16,
   "metadata": {},
   "outputs": [
    {
     "data": {
      "text/html": [
       "<div>\n",
       "<style scoped>\n",
       "    .dataframe tbody tr th:only-of-type {\n",
       "        vertical-align: middle;\n",
       "    }\n",
       "\n",
       "    .dataframe tbody tr th {\n",
       "        vertical-align: top;\n",
       "    }\n",
       "\n",
       "    .dataframe thead th {\n",
       "        text-align: right;\n",
       "    }\n",
       "</style>\n",
       "<table border=\"1\" class=\"dataframe\">\n",
       "  <thead>\n",
       "    <tr style=\"text-align: right;\">\n",
       "      <th></th>\n",
       "      <th>activity</th>\n",
       "      <th>groups</th>\n",
       "    </tr>\n",
       "  </thead>\n",
       "  <tbody>\n",
       "    <tr>\n",
       "      <th>0</th>\n",
       "      <td>Автовладельцы</td>\n",
       "      <td>[Подслушано у ДПС, Подслушано у Водителей Ряза...</td>\n",
       "    </tr>\n",
       "    <tr>\n",
       "      <th>1</th>\n",
       "      <td>Автомобили</td>\n",
       "      <td>[ПОДСЛУШАНО У ВОДИТЕЛЕЙ. ТВЕРЬ, Подслушано у Д...</td>\n",
       "    </tr>\n",
       "    <tr>\n",
       "      <th>2</th>\n",
       "      <td>Активный отдых</td>\n",
       "      <td>[Подслушано на отдыхе, Подслушано в Туле и Нов...</td>\n",
       "    </tr>\n",
       "  </tbody>\n",
       "</table>\n",
       "</div>"
      ],
      "text/plain": [
       "         activity                                             groups\n",
       "0   Автовладельцы  [Подслушано у ДПС, Подслушано у Водителей Ряза...\n",
       "1      Автомобили  [ПОДСЛУШАНО У ВОДИТЕЛЕЙ. ТВЕРЬ, Подслушано у Д...\n",
       "2  Активный отдых  [Подслушано на отдыхе, Подслушано в Туле и Нов..."
      ]
     },
     "execution_count": 16,
     "metadata": {},
     "output_type": "execute_result"
    }
   ],
   "source": [
    "df_g.head(3)"
   ]
  },
  {
   "cell_type": "code",
   "execution_count": 17,
   "metadata": {},
   "outputs": [],
   "source": [
    "#make a dictionary with activity types as keys\n",
    "dict_g = dict(df_g.values)"
   ]
  },
  {
   "cell_type": "code",
   "execution_count": 19,
   "metadata": {},
   "outputs": [
    {
     "data": {
      "text/plain": [
       "['Подслушано у ДПС',\n",
       " 'Подслушано у Водителей Рязани #ПУВР',\n",
       " 'Подслушано Автомобилистов | Владимир',\n",
       " 'Подслушано в такси',\n",
       " 'Подслушано у таксистов',\n",
       " 'Подслушано у водителей|Пушкино,Ивантеевка',\n",
       " 'Подслушано у водителей Шадринск',\n",
       " 'Подслушано у водителей в Туле',\n",
       " 'Подслушано у водителей Тюмень',\n",
       " 'Муром | Подслушано у водителей 33',\n",
       " 'Подслушано у водителей, Ижевск - Удмуртия, ИГГС']"
      ]
     },
     "execution_count": 19,
     "metadata": {},
     "output_type": "execute_result"
    }
   ],
   "source": [
    "#check values by a key\n",
    "dict_g['Автовладельцы']"
   ]
  },
  {
   "cell_type": "code",
   "execution_count": 20,
   "metadata": {},
   "outputs": [],
   "source": [
    "def make_pairs(dictionary):\n",
    "    '''\n",
    "    takes in dictionary with lists of groups as values \n",
    "    and group activity as key,iterate over lists and \n",
    "    returns all possible pairs\n",
    "    '''\n",
    "    all_possible_pairs = []\n",
    "    for key, val in tqdm(dictionary.items()):\n",
    "        if val:\n",
    "            pair_subset = ([(min(val[i], val[j]), \n",
    "                             max(val[i], val[j]), key) \n",
    "                             for i in range(len(val)) \n",
    "                             for j in range(i+1, len(val))])\n",
    "            \n",
    "        all_possible_pairs.extend(pair_subset)\n",
    "    print('Количество всех возможных пар:', len(all_possible_pairs))\n",
    "    return all_possible_pairs"
   ]
  },
  {
   "cell_type": "code",
   "execution_count": 21,
   "metadata": {},
   "outputs": [
    {
     "name": "stderr",
     "output_type": "stream",
     "text": [
      "100%|██████████| 91/91 [00:00<00:00, 226.12it/s]"
     ]
    },
    {
     "name": "stdout",
     "output_type": "stream",
     "text": [
      "Количество всех возможных пар: 132281\n"
     ]
    },
    {
     "name": "stderr",
     "output_type": "stream",
     "text": [
      "\n"
     ]
    }
   ],
   "source": [
    "pairs_g = make_pairs(dict_g)"
   ]
  },
  {
   "cell_type": "code",
   "execution_count": 22,
   "metadata": {},
   "outputs": [],
   "source": [
    "#make DataFrame again\n",
    "pairs_g_df = pd.DataFrame(pairs_g, columns=['node1','node2','activity'])"
   ]
  },
  {
   "cell_type": "code",
   "execution_count": 23,
   "metadata": {},
   "outputs": [
    {
     "data": {
      "text/html": [
       "<div>\n",
       "<style scoped>\n",
       "    .dataframe tbody tr th:only-of-type {\n",
       "        vertical-align: middle;\n",
       "    }\n",
       "\n",
       "    .dataframe tbody tr th {\n",
       "        vertical-align: top;\n",
       "    }\n",
       "\n",
       "    .dataframe thead th {\n",
       "        text-align: right;\n",
       "    }\n",
       "</style>\n",
       "<table border=\"1\" class=\"dataframe\">\n",
       "  <thead>\n",
       "    <tr style=\"text-align: right;\">\n",
       "      <th></th>\n",
       "      <th>node1</th>\n",
       "      <th>node2</th>\n",
       "      <th>activity</th>\n",
       "    </tr>\n",
       "  </thead>\n",
       "  <tbody>\n",
       "    <tr>\n",
       "      <th>0</th>\n",
       "      <td>Подслушано у Водителей Рязани #ПУВР</td>\n",
       "      <td>Подслушано у ДПС</td>\n",
       "      <td>Автовладельцы</td>\n",
       "    </tr>\n",
       "    <tr>\n",
       "      <th>1</th>\n",
       "      <td>Подслушано Автомобилистов | Владимир</td>\n",
       "      <td>Подслушано у ДПС</td>\n",
       "      <td>Автовладельцы</td>\n",
       "    </tr>\n",
       "    <tr>\n",
       "      <th>2</th>\n",
       "      <td>Подслушано в такси</td>\n",
       "      <td>Подслушано у ДПС</td>\n",
       "      <td>Автовладельцы</td>\n",
       "    </tr>\n",
       "  </tbody>\n",
       "</table>\n",
       "</div>"
      ],
      "text/plain": [
       "                                  node1             node2       activity\n",
       "0   Подслушано у Водителей Рязани #ПУВР  Подслушано у ДПС  Автовладельцы\n",
       "1  Подслушано Автомобилистов | Владимир  Подслушано у ДПС  Автовладельцы\n",
       "2                    Подслушано в такси  Подслушано у ДПС  Автовладельцы"
      ]
     },
     "execution_count": 23,
     "metadata": {},
     "output_type": "execute_result"
    }
   ],
   "source": [
    "#edges table\n",
    "pairs_g_df.head(3)"
   ]
  },
  {
   "cell_type": "code",
   "execution_count": 24,
   "metadata": {},
   "outputs": [],
   "source": [
    "#add nodes attribute\n",
    "#merge with nodes weight\n",
    "edges = (pd.merge(pairs_g_df, df,\n",
    "                   how='left', \n",
    "                   left_on=['node1','activity'], \n",
    "                   right_on = ['name','activity'])\n",
    "                   .rename(columns={'users_new':'users_new1'})\n",
    "                   .drop(columns=['name','users']))\n",
    "\n",
    "edges = (pd.merge(edges, df,\n",
    "                   how='left', \n",
    "                   left_on=['node2','activity'], \n",
    "                   right_on = ['name','activity'])\n",
    "                   .rename(columns={'users_new':'users_new2'})\n",
    "                   .drop(columns=['name','users']))"
   ]
  },
  {
   "cell_type": "code",
   "execution_count": 25,
   "metadata": {},
   "outputs": [
    {
     "name": "stdout",
     "output_type": "stream",
     "text": [
      "Количество ребер: 132281\n"
     ]
    },
    {
     "data": {
      "text/html": [
       "<div>\n",
       "<style scoped>\n",
       "    .dataframe tbody tr th:only-of-type {\n",
       "        vertical-align: middle;\n",
       "    }\n",
       "\n",
       "    .dataframe tbody tr th {\n",
       "        vertical-align: top;\n",
       "    }\n",
       "\n",
       "    .dataframe thead th {\n",
       "        text-align: right;\n",
       "    }\n",
       "</style>\n",
       "<table border=\"1\" class=\"dataframe\">\n",
       "  <thead>\n",
       "    <tr style=\"text-align: right;\">\n",
       "      <th></th>\n",
       "      <th>node1</th>\n",
       "      <th>node2</th>\n",
       "      <th>activity</th>\n",
       "      <th>users_new1</th>\n",
       "      <th>users_new2</th>\n",
       "    </tr>\n",
       "  </thead>\n",
       "  <tbody>\n",
       "    <tr>\n",
       "      <th>0</th>\n",
       "      <td>Подслушано у Водителей Рязани #ПУВР</td>\n",
       "      <td>Подслушано у ДПС</td>\n",
       "      <td>Автовладельцы</td>\n",
       "      <td>97840</td>\n",
       "      <td>126013</td>\n",
       "    </tr>\n",
       "    <tr>\n",
       "      <th>1</th>\n",
       "      <td>Подслушано Автомобилистов | Владимир</td>\n",
       "      <td>Подслушано у ДПС</td>\n",
       "      <td>Автовладельцы</td>\n",
       "      <td>97309</td>\n",
       "      <td>126013</td>\n",
       "    </tr>\n",
       "    <tr>\n",
       "      <th>2</th>\n",
       "      <td>Подслушано в такси</td>\n",
       "      <td>Подслушано у ДПС</td>\n",
       "      <td>Автовладельцы</td>\n",
       "      <td>90174</td>\n",
       "      <td>126013</td>\n",
       "    </tr>\n",
       "  </tbody>\n",
       "</table>\n",
       "</div>"
      ],
      "text/plain": [
       "                                  node1             node2       activity  \\\n",
       "0   Подслушано у Водителей Рязани #ПУВР  Подслушано у ДПС  Автовладельцы   \n",
       "1  Подслушано Автомобилистов | Владимир  Подслушано у ДПС  Автовладельцы   \n",
       "2                    Подслушано в такси  Подслушано у ДПС  Автовладельцы   \n",
       "\n",
       "   users_new1  users_new2  \n",
       "0       97840      126013  \n",
       "1       97309      126013  \n",
       "2       90174      126013  "
      ]
     },
     "execution_count": 25,
     "metadata": {},
     "output_type": "execute_result"
    }
   ],
   "source": [
    "#edges\n",
    "print('Количество ребер:',edges.shape[0])\n",
    "edges.head(3)"
   ]
  },
  {
   "cell_type": "markdown",
   "metadata": {},
   "source": [
    "## Prepare tables for graph"
   ]
  },
  {
   "cell_type": "code",
   "execution_count": 26,
   "metadata": {},
   "outputs": [],
   "source": [
    "#make name as index for nodes table\n",
    "nodes_attr = df.set_index('name')"
   ]
  },
  {
   "cell_type": "code",
   "execution_count": 27,
   "metadata": {},
   "outputs": [
    {
     "name": "stdout",
     "output_type": "stream",
     "text": [
      "Количество узлов: 998\n"
     ]
    },
    {
     "data": {
      "text/html": [
       "<div>\n",
       "<style scoped>\n",
       "    .dataframe tbody tr th:only-of-type {\n",
       "        vertical-align: middle;\n",
       "    }\n",
       "\n",
       "    .dataframe tbody tr th {\n",
       "        vertical-align: top;\n",
       "    }\n",
       "\n",
       "    .dataframe thead th {\n",
       "        text-align: right;\n",
       "    }\n",
       "</style>\n",
       "<table border=\"1\" class=\"dataframe\">\n",
       "  <thead>\n",
       "    <tr style=\"text-align: right;\">\n",
       "      <th></th>\n",
       "      <th>activity</th>\n",
       "      <th>users</th>\n",
       "      <th>users_new</th>\n",
       "    </tr>\n",
       "    <tr>\n",
       "      <th>name</th>\n",
       "      <th></th>\n",
       "      <th></th>\n",
       "      <th></th>\n",
       "    </tr>\n",
       "  </thead>\n",
       "  <tbody>\n",
       "    <tr>\n",
       "      <th>Подслушано – Здесь говорят о тебе</th>\n",
       "      <td>Общество</td>\n",
       "      <td>4 015 622 подписчика</td>\n",
       "      <td>4015622</td>\n",
       "    </tr>\n",
       "    <tr>\n",
       "      <th>Подслушано | Пошлое 18+ 16+</th>\n",
       "      <td>Эротика</td>\n",
       "      <td>734 173 подписчика</td>\n",
       "      <td>734173</td>\n",
       "    </tr>\n",
       "    <tr>\n",
       "      <th>Подслушано Метро Москвы</th>\n",
       "      <td>Городское сообщество</td>\n",
       "      <td>633 333 подписчика</td>\n",
       "      <td>633333</td>\n",
       "    </tr>\n",
       "  </tbody>\n",
       "</table>\n",
       "</div>"
      ],
      "text/plain": [
       "                                               activity                 users  \\\n",
       "name                                                                            \n",
       "Подслушано – Здесь говорят о тебе              Общество  4 015 622 подписчика   \n",
       "Подслушано | Пошлое 18+ 16+                     Эротика    734 173 подписчика   \n",
       "Подслушано Метро Москвы            Городское сообщество    633 333 подписчика   \n",
       "\n",
       "                                   users_new  \n",
       "name                                          \n",
       "Подслушано – Здесь говорят о тебе    4015622  \n",
       "Подслушано | Пошлое 18+ 16+           734173  \n",
       "Подслушано Метро Москвы               633333  "
      ]
     },
     "execution_count": 27,
     "metadata": {},
     "output_type": "execute_result"
    }
   ],
   "source": [
    "#nodes with attr\n",
    "print('Количество узлов:',nodes_attr.shape[0])\n",
    "nodes_attr.head(3)"
   ]
  },
  {
   "cell_type": "code",
   "execution_count": 28,
   "metadata": {},
   "outputs": [
    {
     "data": {
      "text/plain": [
       "['Городское сообщество',\n",
       " 'Объявления',\n",
       " 'Интернет-СМИ',\n",
       " 'Дискуссионный клуб',\n",
       " 'Молодёжное движение',\n",
       " 'Юмор',\n",
       " 'Образование',\n",
       " 'Открытая группа',\n",
       " 'Отношения полов',\n",
       " 'Общественная организация',\n",
       " 'Группа коллег',\n",
       " 'Общество']"
      ]
     },
     "execution_count": 28,
     "metadata": {},
     "output_type": "execute_result"
    }
   ],
   "source": [
    "#select nodes by activity type\n",
    "top_activ = Counter(edges.activity).most_common()\n",
    "#filter activity types with more than 100 pairs\n",
    "list_groups = []\n",
    "for i, ii in top_activ:\n",
    "    if ii > 100: \n",
    "        list_groups.append(i)\n",
    "        \n",
    "list_groups"
   ]
  },
  {
   "cell_type": "code",
   "execution_count": 29,
   "metadata": {},
   "outputs": [],
   "source": [
    "#filtered edges for a future graph\n",
    "filter_edges = edges[edges['activity'].isin(list_groups)]"
   ]
  },
  {
   "cell_type": "markdown",
   "metadata": {},
   "source": [
    "## Build and plot a graph"
   ]
  },
  {
   "cell_type": "code",
   "execution_count": 1,
   "metadata": {
    "collapsed": true,
    "jupyter": {
     "outputs_hidden": true
    }
   },
   "outputs": [
    {
     "ename": "NameError",
     "evalue": "name 'plt' is not defined",
     "output_type": "error",
     "traceback": [
      "\u001b[0;31m---------------------------------------------------------------------------\u001b[0m",
      "\u001b[0;31mNameError\u001b[0m                                 Traceback (most recent call last)",
      "\u001b[0;32m<ipython-input-1-406624408ce2>\u001b[0m in \u001b[0;36m<module>\u001b[0;34m\u001b[0m\n\u001b[1;32m      1\u001b[0m \u001b[0;31m#figsize: width, height\u001b[0m\u001b[0;34m\u001b[0m\u001b[0;34m\u001b[0m\u001b[0;34m\u001b[0m\u001b[0m\n\u001b[1;32m      2\u001b[0m \u001b[0;31m#dpi default: 100\u001b[0m\u001b[0;34m\u001b[0m\u001b[0;34m\u001b[0m\u001b[0;34m\u001b[0m\u001b[0m\n\u001b[0;32m----> 3\u001b[0;31m \u001b[0mplt\u001b[0m\u001b[0;34m.\u001b[0m\u001b[0mfigure\u001b[0m\u001b[0;34m(\u001b[0m\u001b[0mfigsize\u001b[0m\u001b[0;34m=\u001b[0m\u001b[0;34m(\u001b[0m\u001b[0;36m150\u001b[0m\u001b[0;34m,\u001b[0m\u001b[0;36m180\u001b[0m\u001b[0;34m)\u001b[0m\u001b[0;34m,\u001b[0m \u001b[0mfacecolor\u001b[0m\u001b[0;34m=\u001b[0m\u001b[0;34m'white'\u001b[0m\u001b[0;34m,\u001b[0m \u001b[0mdpi\u001b[0m\u001b[0;34m=\u001b[0m\u001b[0;36m110\u001b[0m\u001b[0;34m)\u001b[0m\u001b[0;34m\u001b[0m\u001b[0;34m\u001b[0m\u001b[0m\n\u001b[0m\u001b[1;32m      4\u001b[0m \u001b[0;34m\u001b[0m\u001b[0m\n\u001b[1;32m      5\u001b[0m \u001b[0;31m#create the graph\u001b[0m\u001b[0;34m\u001b[0m\u001b[0;34m\u001b[0m\u001b[0;34m\u001b[0m\u001b[0m\n",
      "\u001b[0;31mNameError\u001b[0m: name 'plt' is not defined"
     ]
    }
   ],
   "source": [
    "#figsize: width, height\n",
    "#dpi default: 100\n",
    "plt.figure(figsize=(150,180), facecolor='white', dpi=110)\n",
    "\n",
    "#create the graph\n",
    "g = nx.from_pandas_edgelist(filter_edges,'node1', 'node2',\n",
    "                            create_using=nx.Graph())\n",
    "\n",
    "#create layout \n",
    "##k-скученность (больше число - больше расстояние между нодами) \n",
    "##iterations-отдаленность кластеров: 10(разбросаны), 50(скученны)\n",
    "layout = nx.spring_layout(g, iterations=50, k=0.8) #k=0.35\n",
    "\n",
    "\n",
    "#draw every node\n",
    "#MAKE NODE COLOR FOR NODE TYPE (i.e. group activity)\n",
    "nodes_attr = nodes_attr.reindex(g.nodes())\n",
    "nodes_attr['activity_cat'] = pd.Categorical(nodes_attr['activity'])\n",
    "\n",
    "nx.draw_networkx_nodes(g, layout, \n",
    "                       nodelist=nodes_attr.index, \n",
    "                       node_color=nodes_attr['activity_cat'].cat.codes,\n",
    "                       cmap=plt.cm.Set3,\n",
    "                       node_size=4000)\n",
    "\n",
    "\n",
    "#draw edges\n",
    "nx.draw_networkx_edges(g, layout,\n",
    "                       edge_color='#3D3D3D', \n",
    "                       width=0.25)\n",
    "\n",
    "\n",
    "#raise text positions for labels\n",
    "for l in layout:  \n",
    "    layout[l][0] += 0.01 #правее\n",
    "    layout[l][1] += 0.03 #выше\n",
    "    \n",
    "nx.draw_networkx_labels(g,layout,\n",
    "                        font_size=45,\n",
    "                        font_color='#3D3D3D',\n",
    "                        font_family='Arial Narrow')\n",
    "\n",
    "#turn off the axis\n",
    "plt.axis('off')\n",
    "plt.savefig('plot_podslushano.png')\n",
    "plt.show()"
   ]
  },
  {
   "cell_type": "markdown",
   "metadata": {},
   "source": [
    "<img src=\"images/plot_podslushano_net_low.png\"/>"
   ]
  },
  {
   "cell_type": "markdown",
   "metadata": {},
   "source": [
    "## Count statistics"
   ]
  },
  {
   "cell_type": "code",
   "execution_count": 34,
   "metadata": {},
   "outputs": [
    {
     "data": {
      "text/html": [
       "<div>\n",
       "<style scoped>\n",
       "    .dataframe tbody tr th:only-of-type {\n",
       "        vertical-align: middle;\n",
       "    }\n",
       "\n",
       "    .dataframe tbody tr th {\n",
       "        vertical-align: top;\n",
       "    }\n",
       "\n",
       "    .dataframe thead th {\n",
       "        text-align: right;\n",
       "    }\n",
       "</style>\n",
       "<table border=\"1\" class=\"dataframe\">\n",
       "  <thead>\n",
       "    <tr style=\"text-align: right;\">\n",
       "      <th></th>\n",
       "      <th>name</th>\n",
       "      <th>activity</th>\n",
       "      <th>users</th>\n",
       "      <th>users_new</th>\n",
       "    </tr>\n",
       "  </thead>\n",
       "  <tbody>\n",
       "    <tr>\n",
       "      <th>0</th>\n",
       "      <td>Подслушано – Здесь говорят о тебе</td>\n",
       "      <td>Общество</td>\n",
       "      <td>4 015 622 подписчика</td>\n",
       "      <td>4015622</td>\n",
       "    </tr>\n",
       "    <tr>\n",
       "      <th>1</th>\n",
       "      <td>Подслушано | Пошлое 18+ 16+</td>\n",
       "      <td>Эротика</td>\n",
       "      <td>734 173 подписчика</td>\n",
       "      <td>734173</td>\n",
       "    </tr>\n",
       "    <tr>\n",
       "      <th>2</th>\n",
       "      <td>Подслушано Метро Москвы</td>\n",
       "      <td>Городское сообщество</td>\n",
       "      <td>633 333 подписчика</td>\n",
       "      <td>633333</td>\n",
       "    </tr>\n",
       "  </tbody>\n",
       "</table>\n",
       "</div>"
      ],
      "text/plain": [
       "                                name              activity  \\\n",
       "0  Подслушано – Здесь говорят о тебе              Общество   \n",
       "1        Подслушано | Пошлое 18+ 16+               Эротика   \n",
       "2            Подслушано Метро Москвы  Городское сообщество   \n",
       "\n",
       "                  users  users_new  \n",
       "0  4 015 622 подписчика    4015622  \n",
       "1    734 173 подписчика     734173  \n",
       "2    633 333 подписчика     633333  "
      ]
     },
     "execution_count": 34,
     "metadata": {},
     "output_type": "execute_result"
    }
   ],
   "source": [
    "#not filtered nodes with attributes\n",
    "df.head(3)"
   ]
  },
  {
   "cell_type": "code",
   "execution_count": 36,
   "metadata": {},
   "outputs": [],
   "source": [
    "#count activity types density\n",
    "df_counts = pd.DataFrame(Counter(df.activity).most_common(15))\n",
    "df_counts.columns = ['Сфера сообщества', 'Количество групп']"
   ]
  },
  {
   "cell_type": "code",
   "execution_count": 37,
   "metadata": {},
   "outputs": [],
   "source": [
    "#plot\n",
    "plt.rcParams[\"figure.dpi\"] = 150"
   ]
  },
  {
   "cell_type": "code",
   "execution_count": 40,
   "metadata": {},
   "outputs": [
    {
     "data": {
      "image/png": "[encoded data removed]",
      "text/plain": [
       "<Figure size 2400x1500 with 1 Axes>"
      ]
     },
     "metadata": {
      "needs_background": "light"
     },
     "output_type": "display_data"
    }
   ],
   "source": [
    "ax = df_counts.plot.barh(x='Сфера сообщества', y='Количество групп',\n",
    "                 figsize=(16,10), fontsize=20, legend=False)\n",
    "ax.set_ylabel('Сфера деятельности сообщества',fontdict={'fontsize':18})\n",
    "ax.set_xlabel('Количество сообществ',fontdict={'fontsize':18})\n",
    "ax.spines['top'].set_visible(False)\n",
    "ax.spines['right'].set_visible(False)\n",
    "ax.spines['bottom'].set_visible(False)\n",
    "ax.spines['left'].set_visible(False)"
   ]
  },
  {
   "cell_type": "code",
   "execution_count": null,
   "metadata": {},
   "outputs": [],
   "source": [
    "# ax.figure.savefig('activ_barhplot.jpg',\n",
    "#                   bbox_inches='tight',\n",
    "#                   pad_inches=1)"
   ]
  },
  {
   "cell_type": "code",
   "execution_count": 41,
   "metadata": {},
   "outputs": [
    {
     "data": {
      "text/html": [
       "<div>\n",
       "<style scoped>\n",
       "    .dataframe tbody tr th:only-of-type {\n",
       "        vertical-align: middle;\n",
       "    }\n",
       "\n",
       "    .dataframe tbody tr th {\n",
       "        vertical-align: top;\n",
       "    }\n",
       "\n",
       "    .dataframe thead th {\n",
       "        text-align: right;\n",
       "    }\n",
       "</style>\n",
       "<table border=\"1\" class=\"dataframe\">\n",
       "  <thead>\n",
       "    <tr style=\"text-align: right;\">\n",
       "      <th></th>\n",
       "      <th>name</th>\n",
       "      <th>activity</th>\n",
       "      <th>users</th>\n",
       "      <th>users_new</th>\n",
       "    </tr>\n",
       "  </thead>\n",
       "  <tbody>\n",
       "    <tr>\n",
       "      <th>0</th>\n",
       "      <td>Подслушано – Здесь говорят о тебе</td>\n",
       "      <td>Общество</td>\n",
       "      <td>4 015 622 подписчика</td>\n",
       "      <td>4015622</td>\n",
       "    </tr>\n",
       "    <tr>\n",
       "      <th>1</th>\n",
       "      <td>Подслушано | Пошлое 18+ 16+</td>\n",
       "      <td>Эротика</td>\n",
       "      <td>734 173 подписчика</td>\n",
       "      <td>734173</td>\n",
       "    </tr>\n",
       "    <tr>\n",
       "      <th>2</th>\n",
       "      <td>Подслушано Метро Москвы</td>\n",
       "      <td>Городское сообщество</td>\n",
       "      <td>633 333 подписчика</td>\n",
       "      <td>633333</td>\n",
       "    </tr>\n",
       "  </tbody>\n",
       "</table>\n",
       "</div>"
      ],
      "text/plain": [
       "                                name              activity  \\\n",
       "0  Подслушано – Здесь говорят о тебе              Общество   \n",
       "1        Подслушано | Пошлое 18+ 16+               Эротика   \n",
       "2            Подслушано Метро Москвы  Городское сообщество   \n",
       "\n",
       "                  users  users_new  \n",
       "0  4 015 622 подписчика    4015622  \n",
       "1    734 173 подписчика     734173  \n",
       "2    633 333 подписчика     633333  "
      ]
     },
     "execution_count": 41,
     "metadata": {},
     "output_type": "execute_result"
    }
   ],
   "source": [
    "#check groups with over 0.5 mln subscribers\n",
    "df[df.users_new > 500000]"
   ]
  }
 ],
 "metadata": {
  "kernelspec": {
   "display_name": "Python 3",
   "language": "python",
   "name": "python3"
  },
  "language_info": {
   "codemirror_mode": {
    "name": "ipython",
    "version": 3
   },
   "file_extension": ".py",
   "mimetype": "text/x-python",
   "name": "python",
   "nbconvert_exporter": "python",
   "pygments_lexer": "ipython3",
   "version": "3.8.2"
  }
 },
 "nbformat": 4,
 "nbformat_minor": 4
}
